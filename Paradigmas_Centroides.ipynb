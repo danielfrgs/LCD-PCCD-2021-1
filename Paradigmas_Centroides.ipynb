{
  "nbformat": 4,
  "nbformat_minor": 0,
  "metadata": {
    "colab": {
      "name": "Paradigmas - Centroides.ipynb",
      "provenance": [],
      "authorship_tag": "ABX9TyOnv6dFgeH8+zoI5PpIffhL",
      "include_colab_link": true
    },
    "kernelspec": {
      "name": "python3",
      "display_name": "Python 3"
    },
    "language_info": {
      "name": "python"
    }
  },
  "cells": [
    {
      "cell_type": "markdown",
      "metadata": {
        "id": "view-in-github",
        "colab_type": "text"
      },
      "source": [
        "<a href=\"https://colab.research.google.com/github/danielfrgs/LCD-PCCD-2021-1/blob/main/Paradigmas_Centroides.ipynb\" target=\"_parent\"><img src=\"https://colab.research.google.com/assets/colab-badge.svg\" alt=\"Open In Colab\"/></a>"
      ]
    },
    {
      "cell_type": "code",
      "metadata": {
        "id": "FcigYr29szJd"
      },
      "source": [
        "import numpy as np\n",
        "from matplotlib import pyplot as plt\n",
        "plt.style.use('ggplot')\n",
        "plt.reParams('figure.figsize') = (12, 6)"
      ],
      "execution_count": 3,
      "outputs": []
    },
    {
      "cell_type": "code",
      "metadata": {
        "colab": {
          "base_uri": "https://localhost:8080/",
          "height": 282
        },
        "id": "3Ut3_SHNtxqo",
        "outputId": "51650a2d-70f3-43d8-d3ce-58adee565803"
      },
      "source": [
        "data = np.array([[8,10],[3,10.5],[7,13.5],[5,18],[5,13],[6,9],[9,11],[3,18],[8.5,12],[8,16]])\n",
        "C = np.array([[8, 10], [3, 10.5]])\n",
        "plt.scatter(C[0][0], C[0][1], marker = '*', s=200, c = 'k')\n",
        "plt.scatter(C[1][0], C[1][1], marker = '*', s=200, c = 'k')\n",
        "plt.scatter(data[:,0], data[:, 1])"
      ],
      "execution_count": 8,
      "outputs": [
        {
          "output_type": "execute_result",
          "data": {
            "text/plain": [
              "<matplotlib.collections.PathCollection at 0x7f06283a93d0>"
            ]
          },
          "metadata": {},
          "execution_count": 8
        },
        {
          "output_type": "display_data",
          "data": {
            "image/png": "[encoded data removed]",
            "text/plain": [
              "<Figure size 432x288 with 1 Axes>"
            ]
          },
          "metadata": {}
        }
      ]
    },
    {
      "cell_type": "code",
      "metadata": {
        "colab": {
          "base_uri": "https://localhost:8080/"
        },
        "id": "BFulTX4HuW8e",
        "outputId": "85973ffa-dc17-4824-bf99-fd32c7e526fe"
      },
      "source": [
        "distances = []\n",
        "clusters = np.zeros(len(data))\n",
        "\n",
        "def dist(a, b, ax=1):\n",
        "  return np.linalg.norm(a-b, axis=ax)\n",
        "\n",
        "for i in range(len(data)):\n",
        "  distance = dist(data[i], C)\n",
        "  distances.append(distance)\n",
        "  cluster = np.argmin(distance)\n",
        "  clusters[i] = cluster\n",
        "\n",
        "print(clusters)\n",
        "\n",
        "distances"
      ],
      "execution_count": 6,
      "outputs": [
        {
          "output_type": "stream",
          "name": "stdout",
          "text": [
            "[0. 1. 0. 1. 1. 0. 0. 1. 0. 0.]\n"
          ]
        },
        {
          "output_type": "execute_result",
          "data": {
            "text/plain": [
              "[array([0.        , 5.02493781]),\n",
              " array([5.02493781, 0.        ]),\n",
              " array([3.64005494, 5.        ]),\n",
              " array([8.54400375, 7.76208735]),\n",
              " array([4.24264069, 3.20156212]),\n",
              " array([2.23606798, 3.35410197]),\n",
              " array([1.41421356, 6.02079729]),\n",
              " array([9.43398113, 7.5       ]),\n",
              " array([2.06155281, 5.70087713]),\n",
              " array([6.        , 7.43303437])]"
            ]
          },
          "metadata": {},
          "execution_count": 6
        }
      ]
    },
    {
      "cell_type": "code",
      "metadata": {
        "colab": {
          "base_uri": "https://localhost:8080/"
        },
        "id": "s5PjQ-Jova99",
        "outputId": "63212333-f2de-4696-d527-ed0a3266c58c"
      },
      "source": [
        "for i in range(len(C)):\n",
        "  points = [data[j] for j in range(len(data)) if clusters[j] == i]\n",
        "  print(points)\n",
        "  C[i] = np.mean(points, axis =0)\n",
        "C"
      ],
      "execution_count": 12,
      "outputs": [
        {
          "output_type": "stream",
          "name": "stdout",
          "text": [
            "[array([ 8., 10.]), array([ 7. , 13.5]), array([6., 9.]), array([ 9., 11.]), array([ 8.5, 12. ]), array([ 8., 16.])]\n",
            "[array([ 3. , 10.5]), array([ 5., 18.]), array([ 5., 13.]), array([ 3., 18.])]\n"
          ]
        },
        {
          "output_type": "execute_result",
          "data": {
            "text/plain": [
              "array([[ 7.75      , 11.91666667],\n",
              "       [ 4.        , 14.875     ]])"
            ]
          },
          "metadata": {},
          "execution_count": 12
        }
      ]
    },
    {
      "cell_type": "code",
      "metadata": {
        "colab": {
          "base_uri": "https://localhost:8080/",
          "height": 282
        },
        "id": "7sX4ner5weNP",
        "outputId": "755f317e-6499-4085-af97-ac2e0160687d"
      },
      "source": [
        "plt.scatter(C[0][0], C[0][1], marker = '*', s=200, c = 'k')\n",
        "plt.scatter(C[1][0], C[1][1], marker = '*', s=200, c = 'k')\n",
        "plt.scatter(data[:,0], data[:, 1])"
      ],
      "execution_count": 13,
      "outputs": [
        {
          "output_type": "execute_result",
          "data": {
            "text/plain": [
              "<matplotlib.collections.PathCollection at 0x7f0628666e50>"
            ]
          },
          "metadata": {},
          "execution_count": 13
        },
        {
          "output_type": "display_data",
          "data": {
            "image/png": "[encoded data removed]",
            "text/plain": [
              "<Figure size 432x288 with 1 Axes>"
            ]
          },
          "metadata": {}
        }
      ]
    }
  ]
}