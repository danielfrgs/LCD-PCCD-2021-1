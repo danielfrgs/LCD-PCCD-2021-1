{
  "nbformat": 4,
  "nbformat_minor": 0,
  "metadata": {
    "colab": {
      "name": "Programa4.ipynb",
      "provenance": [],
      "authorship_tag": "ABX9TyMFfJGvlz9fZpY9SnjDxiuF"
    },
    "kernelspec": {
      "name": "python3",
      "display_name": "Python 3"
    },
    "language_info": {
      "name": "python"
    }
  },
  "cells": [
    {
      "cell_type": "code",
      "metadata": {
        "id": "-LJkIuC1tIs1"
      },
      "source": [
        "import numpy as np"
      ],
      "execution_count": 1,
      "outputs": []
    },
    {
      "cell_type": "code",
      "metadata": {
        "id": "Lgqt6e-SzZQZ"
      },
      "source": [
        "class Minimos:\n",
        "  def __init__(self, X, y):\n",
        "      self.X = X\n",
        "      self.y = y\n",
        "\n",
        "  def matrices(self):\n",
        "      unos = []\n",
        "      for i in range(len(self.X)):\n",
        "        unos.append(1)\n",
        "      X = [self.X]\n",
        "      y = [self.y]\n",
        "      X.append(unos)\n",
        "      return np.array(X).T, np.array(y).T\n",
        "\n",
        "  def Estimadores(self):\n",
        "      X, y = self.matrices()\n",
        "      # Beta\n",
        "      X1 = np.linalg.inv(np.dot(X.T, X))\n",
        "      X2 = np.dot(X.T, y)\n",
        "      B = np.dot(X1, X2)\n",
        "      # Sigma cuadrada\n",
        "      yv = []\n",
        "      for i in range(len(X)):\n",
        "          yv.append(list(np.dot(X[i].T, B)))\n",
        "      sumas = []\n",
        "      for i in range(len(y)):\n",
        "          sumas.append((y[i]-yv[i])**2)\n",
        "          \n",
        "        # Vamos a calucular por último el estimador dividiendo por la diferencia de la dimensión de X\n",
        "\n",
        "      sigma = sum(sumas)/(len(X) - len(X.T))\n",
        "      # Varianza\n",
        "      var = sigma * X1\n",
        "      # Return\n",
        "      print(f'Beta: \\n {B} \\n sigma: \\n {sigma} \\n Varianza: \\n {var}')"
      ],
      "execution_count": 38,
      "outputs": []
    },
    {
      "cell_type": "code",
      "metadata": {
        "colab": {
          "base_uri": "https://localhost:8080/"
        },
        "id": "1j2xEthq0huH",
        "outputId": "e33fa31f-9bf2-4729-84b3-a7b32994520b"
      },
      "source": [
        "X=[0.2,0.4,0.5,0.9,1]\n",
        "y=[0.06,0.12,0.15,0.26,0.29]\n",
        "\n",
        "Minimos(X, y).Estimadores()"
      ],
      "execution_count": 39,
      "outputs": [
        {
          "output_type": "stream",
          "name": "stdout",
          "text": [
            "Beta: \n",
            " [[0.28478261]\n",
            " [0.00513043]] \n",
            " sigma: \n",
            " [4.49275362e-06] \n",
            " Varianza: \n",
            " [[ 9.76685570e-06 -5.86011342e-06]\n",
            " [-5.86011342e-06  4.41461878e-06]]\n"
          ]
        }
      ]
    },
    {
      "cell_type": "code",
      "metadata": {
        "id": "Bf7WhZXz2jYH"
      },
      "source": [
        ""
      ],
      "execution_count": null,
      "outputs": []
    },
    {
      "cell_type": "code",
      "metadata": {
        "id": "GOEzPnjo2gqz"
      },
      "source": [
        ""
      ],
      "execution_count": null,
      "outputs": []
    }
  ]
}