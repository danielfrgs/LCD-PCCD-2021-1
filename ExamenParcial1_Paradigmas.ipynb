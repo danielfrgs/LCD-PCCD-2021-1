{
  "nbformat": 4,
  "nbformat_minor": 0,
  "metadata": {
    "colab": {
      "name": "ExamenParcial1_Paradigmas.ipynb",
      "provenance": [],
      "collapsed_sections": [],
      "include_colab_link": true
    },
    "kernelspec": {
      "name": "python3",
      "display_name": "Python 3"
    },
    "language_info": {
      "name": "python"
    }
  },
  "cells": [
    {
      "cell_type": "markdown",
      "metadata": {
        "id": "view-in-github",
        "colab_type": "text"
      },
      "source": [
        "<a href=\"https://colab.research.google.com/github/danielfrgs/LCD-PCCD-2021-1/blob/main/ExamenParcial1_Paradigmas.ipynb\" target=\"_parent\"><img src=\"https://colab.research.google.com/assets/colab-badge.svg\" alt=\"Open In Colab\"/></a>"
      ]
    },
    {
      "cell_type": "markdown",
      "metadata": {
        "id": "_nIp_UNq0g7T"
      },
      "source": [
        "# Examen Parcial 1.\n",
        "\n",
        "Fragoso Alvarado Daniel\n",
        "\n",
        "Gómez Martinez Jesús Enrique\n",
        "\n",
        "Rangel Rámirez Hugo"
      ]
    },
    {
      "cell_type": "markdown",
      "metadata": {
        "id": "27B5gZzN0x_S"
      },
      "source": [
        "---\n",
        "\n",
        "1. Obtén las funciones discriminantes del clasificador determinista y también el estadístico para el conjunto de datos Iris; elige al menos dos conjuntos diferentes de columnas para generar funciones diferentes (10p)\n"
      ]
    },
    {
      "cell_type": "code",
      "metadata": {
        "id": "8GkMvx582r7F"
      },
      "source": [
        ""
      ],
      "execution_count": null,
      "outputs": []
    },
    {
      "cell_type": "markdown",
      "metadata": {
        "id": "_T3miFI705cu"
      },
      "source": [
        "---\n",
        "\n",
        "2. Aplica la regla de aprendizaje para los pesos de una neurona artificial basada en el modelo del perceptron que calcule la función booleana XOR de dos parámetros mostrando la evolución de los pesos (8p)\n",
        "Nota: El algoritmo sí termina con pesos inicializados a 0, explica a qué se debe"
      ]
    },
    {
      "cell_type": "markdown",
      "metadata": {
        "id": "1aF0pU9g8Cj1"
      },
      "source": [
        "Veamos que la función booleana XOR esta descrita por:\n",
        "\n",
        "$$\n",
        "\\begin{array}{cc|c}\n",
        "x_{1} & x_{2} & y \\\\\n",
        "\\hline 0 & 0 & 0 \\\\\n",
        "0 & 1 & 1 \\\\\n",
        "1 & 0 & 1 \\\\\n",
        "1 & 1 & 0\n",
        "\\end{array}\n",
        "$$\n",
        "\n",
        "Recordemos por lo visto en clase que: "
      ]
    },
    {
      "cell_type": "code",
      "metadata": {
        "id": "7a2EEBR02saB"
      },
      "source": [
        "import numpy as np\n",
        "\n",
        "class Perceptron(object):\n",
        "    def __init__(self, eta =0.01, n_iter =50, random_state =1):\n",
        "        self.eta = eta\n",
        "        self.n_iter = n_iter\n",
        "        self.random_state = random_state\n",
        "        \n",
        "    def fit(self, X, y ):\n",
        "        rgen = np.random.RandomState(self.random_state)\n",
        "        if self.random_state is None :\n",
        "            self.w_ = np.zeros (1 + len (X [1]))\n",
        "        else :\n",
        "            self.w_ = rgen.normal (loc = 0.0, scale = 0.01, size = 1 + X.shape [1])\n",
        "            self.errors_ = []\n",
        "        for _ in range (self.n_iter):\n",
        "            errors = 0\n",
        "            for xi , yi in zip (X , y ):\n",
        "                update = self.eta * (yi - self.predict(xi))\n",
        "                self.w_[1:] += update * xi\n",
        "                self.w_[0] += update\n",
        "                errors += int(update != 0.0)\n",
        "            print(self.w_)\n",
        "            self.errors_.append(errors)\n",
        "        return self\n",
        "                                       \n",
        "    def net_input(self , X):\n",
        "        return np.dot (X , self.w_[1:]) + self.w_[0]\n",
        "                                       \n",
        "    def predict(self , X ):\n",
        "        return np.where (self.net_input(X) >= 0.0 , 1, -1)"
      ],
      "execution_count": null,
      "outputs": []
    },
    {
      "cell_type": "markdown",
      "metadata": {
        "id": "bAM_ipy28PeW"
      },
      "source": [
        "Aplicamos el modelo a los pesos de una función booleana XOR."
      ]
    },
    {
      "cell_type": "code",
      "metadata": {
        "colab": {
          "base_uri": "https://localhost:8080/"
        },
        "id": "dl_jNF428OWD",
        "outputId": "e8930465-48df-4943-a84f-df9b61762853"
      },
      "source": [
        "X =  np.array([[0 ,0], [0 ,1], [1 ,0], [1 ,1]])\n",
        "y =  np.array([0 ,1 ,1 , 0])\n",
        "\n",
        "ppn = Perceptron(n_iter =6, eta =0.1)\n",
        "ppn.fit(X, y)\n",
        "print('Pesos : %s ' % ppn.w_)"
      ],
      "execution_count": null,
      "outputs": [
        {
          "output_type": "stream",
          "name": "stdout",
          "text": [
            "[ 0.01624345 -0.10611756  0.09471828]\n",
            "[ 0.01624345 -0.00611756 -0.00528172]\n",
            "[ 0.01624345 -0.10611756  0.09471828]\n",
            "[ 0.01624345 -0.00611756 -0.00528172]\n",
            "[ 0.01624345 -0.10611756  0.09471828]\n",
            "[ 0.01624345 -0.00611756 -0.00528172]\n",
            "Pesos : [ 0.01624345 -0.00611756 -0.00528172] \n"
          ]
        }
      ]
    },
    {
      "cell_type": "markdown",
      "metadata": {
        "id": "b3I_de6wByiC"
      },
      "source": [
        "Cuando se inicializan los pesos en $0$, el parámetro $\\eta$  afecta unicamente la escala del vector de pesos, pero deja intacta la dirección de este, dando lugar así a que el algortimo concluya pero no realice una eficiente y correcta tasa de aprendizaje sobre los pesos."
      ]
    },
    {
      "cell_type": "markdown",
      "metadata": {
        "id": "kd6ta0oh0-US"
      },
      "source": [
        "----\n",
        "\n",
        "3. ¿La regresión logística puede separar bien la función booleana XOR de dos parámetros? Argumenta tu respuesta (5p)"
      ]
    },
    {
      "cell_type": "markdown",
      "metadata": {
        "id": "C9lyagtL-YxA"
      },
      "source": [
        "No es posible separarlos bien. Si utilizamos un diagrama que muestre las sálidas de la función booleana XOR, teniendo como ejes los parámetros de entrada, encontraremos que las sálidas forman un cuadrado donde, justamente las sálidas verdaderas están en vértices opuestos de la figura, de tal modo que utilizar una recta para separarlas no es viable. Luego, al no poder separarse bien linealmente, no existe garantía de que la regla de aprendizaje converja."
      ]
    },
    {
      "cell_type": "markdown",
      "metadata": {
        "id": "Qv4w2HDh1Dku"
      },
      "source": [
        "---\n",
        "\n",
        "4. Escribe un pseudocódigo detallado del algoritmo Sequential Forward Selection (5p)"
      ]
    },
    {
      "cell_type": "markdown",
      "metadata": {
        "id": "vpoyRGrMHGo4"
      },
      "source": [
        "El *Sequential Forward Selection (SFS)*, al igual que el *SBS*, pertenecen a una familia de algoritmos cuya función principal es reducir la dimensionalidad del conjunto de datos con el propósito de minimizar el error, mejorar la eficiencia computacional y eliminar ruido y datos innecesarios para la resolución de un determinado problema.\n",
        "\n",
        "El *SFS* recibe el conjunto completo de dimensión $d$ y regresa un subconjunto de dimensión $k < d$, con $k$ el número de características especificado a priori.\n",
        "\n",
        "El algoritmo inicia creando un conjunto vacío (y por ende $k=0$).\n",
        "Luego se añade una característica $x$ al conjunto vacío. \n",
        "Esta característica es la que maximiza la eficiencia del clasificador o función de criterio cuando se agrega al conjunto.\n",
        "Se repite esto hasta que se satisfaga el criterio para terminar el proceso.\n",
        "El criterio para terminar es aquel que se estableció a priori, es decir, el algoritmo sigue añadiendo caractarísticas hasta que $k=p$ para una $p$ determinada.\n",
        "\n",
        "En general es fácil darse cuenta que este algoritmo hace lo análogo al *SBS*\n",
        "\n",
        "**Pseudocodigo**\n",
        "\n",
        "1.- Crear un conjunto vacío $X_{k}=\\{\\varnothing\\}$\n",
        "\n",
        "2.- Seleccionar la mejor característica $x=\\arg \\max J(X_{k}+x)$ del conjunto completo\n",
        "\n",
        "3.- Si $J(X_{k}+x)> J(X_{k})$, actualizamos $X_{k+1}=X_{k}+x$\n",
        "\n",
        "4.- Hacemos $k=k+1$ y volvemos al paso 2."
      ]
    },
    {
      "cell_type": "markdown",
      "metadata": {
        "id": "Z6nzxKXf1Ik-"
      },
      "source": [
        "----\n",
        "\n",
        "5. ¿Qué sucede al utilizar Linear Discriminant Analysis (LDA) sobre el conjunto de medias\n",
        "lunas? Escribe un código que lo muestre (7p)"
      ]
    },
    {
      "cell_type": "markdown",
      "metadata": {
        "id": "PkBaH-AE3J7d"
      },
      "source": [
        "**Respuesta:**\n",
        "\n",
        "Recordemos que el objetivo de LDA es encontrar un subespacio de características que optimice la separabilidad de clases. Sin embargo, el algoritmo requiere de una clara definición, o mejor dicho, separación entre los datos para su clasificación, lo que no ocurre con las medias lunas, por lo que esperariamos que no lo logre clasificar, más aún, debido a la falta de caracteristicas para geneerar el subespacio, solo generará una proyección donde parte de los datos estarán encimados.\n",
        "\n",
        "A continuación se muestra un código, aplicando LDA cargado en Skalearn:"
      ]
    },
    {
      "cell_type": "code",
      "metadata": {
        "colab": {
          "base_uri": "https://localhost:8080/",
          "height": 265
        },
        "id": "UYBxn0pB2uAd",
        "outputId": "2d909345-1dd5-45f9-f7b8-61c4912824ca"
      },
      "source": [
        "# Primero vamos a importar las medias lunas de sklearn\n",
        "from sklearn.datasets import make_moons\n",
        "import numpy as np\n",
        "import matplotlib.pyplot as plt\n",
        "\n",
        "X, y = make_moons(n_samples =100, random_state=123)\n",
        "\n",
        "# Vamos a gráficarlas para tener una muestra visual:\n",
        "plt.scatter(X[y==0, 0], X[y==0, 1], color= 'red', marker='^', alpha =0.5)\n",
        "plt.scatter(X[y==1, 0], X[y==1, 1], color= 'blue' , marker='o', alpha=0.5)\n",
        "plt.show()"
      ],
      "execution_count": null,
      "outputs": [
        {
          "output_type": "display_data",
          "data": {
            "image/png": "[encoded data removed]",
            "text/plain": [
              "<Figure size 432x288 with 1 Axes>"
            ]
          },
          "metadata": {
            "needs_background": "light"
          }
        }
      ]
    },
    {
      "cell_type": "code",
      "metadata": {
        "id": "ehNyH7tB4_7t"
      },
      "source": [
        "# Vamos a separar en entrenamiento y prueba \n",
        "from sklearn.model_selection import train_test_split\n",
        "X_train , X_test , y_train , y_test = train_test_split(X, y, test_size =0.3)"
      ],
      "execution_count": null,
      "outputs": []
    },
    {
      "cell_type": "code",
      "metadata": {
        "id": "kjLeClYa5JKq"
      },
      "source": [
        "# Estandarizamos\n",
        "from sklearn.preprocessing import StandardScaler\n",
        "sc = StandardScaler()\n",
        "\n",
        "X_train_std = sc.fit_transform(X_train)\n",
        "X_test_std = sc.transform (X_test)"
      ],
      "execution_count": null,
      "outputs": []
    },
    {
      "cell_type": "code",
      "metadata": {
        "colab": {
          "base_uri": "https://localhost:8080/"
        },
        "id": "M-BciugH5aab",
        "outputId": "c4f1883f-02e2-461e-e440-de2fdbe99110"
      },
      "source": [
        "# Importamos el LDA de sklearn\n",
        "from sklearn.discriminant_analysis import LinearDiscriminantAnalysis as LDA\n",
        "\n",
        "# Regresión lineal:\n",
        "from sklearn.linear_model import LogisticRegression\n",
        "\n",
        "# inicializar LDA y el modelo de RL\n",
        "# n_components se hace 1 debido \n",
        "lda = LDA()\n",
        "\n",
        "# Regresión lineal como clasificador:\n",
        "lr = LogisticRegression()\n",
        "\n",
        "# Ajustar y transformar los datos\n",
        "X_train_lda = lda.fit_transform(X_train_std, y_train)\n",
        "lr.fit(X_train_lda ,y_train)"
      ],
      "execution_count": null,
      "outputs": [
        {
          "output_type": "execute_result",
          "data": {
            "text/plain": [
              "LogisticRegression(C=1.0, class_weight=None, dual=False, fit_intercept=True,\n",
              "                   intercept_scaling=1, l1_ratio=None, max_iter=100,\n",
              "                   multi_class='auto', n_jobs=None, penalty='l2',\n",
              "                   random_state=None, solver='lbfgs', tol=0.0001, verbose=0,\n",
              "                   warm_start=False)"
            ]
          },
          "metadata": {},
          "execution_count": 8
        }
      ]
    },
    {
      "cell_type": "code",
      "metadata": {
        "colab": {
          "base_uri": "https://localhost:8080/",
          "height": 319
        },
        "id": "yBfmzgqD5jB-",
        "outputId": "04571dee-40fa-4124-b50c-4398d9d3e16c"
      },
      "source": [
        "# Vamos a gráficar:\n",
        "\n",
        "from mlxtend.plotting import plot_decision_regions\n",
        "\n",
        "plot_decision_regions(X_train_lda , y_train, clf=lr)\n",
        "plt.show()"
      ],
      "execution_count": null,
      "outputs": [
        {
          "output_type": "stream",
          "name": "stderr",
          "text": [
            "/usr/local/lib/python3.7/dist-packages/mlxtend/plotting/decision_regions.py:244: MatplotlibDeprecationWarning: Passing unsupported keyword arguments to axis() will raise a TypeError in 3.3.\n",
            "  ax.axis(xmin=xx.min(), xmax=xx.max(), y_min=yy.min(), y_max=yy.max())\n"
          ]
        },
        {
          "output_type": "display_data",
          "data": {
            "image/png": "[encoded data removed]",
            "text/plain": [
              "<Figure size 432x288 with 1 Axes>"
            ]
          },
          "metadata": {
            "needs_background": "light"
          }
        }
      ]
    },
    {
      "cell_type": "markdown",
      "metadata": {
        "id": "YO2Y5nPI1N6z"
      },
      "source": [
        "---\n",
        "\n",
        "\n",
        "6. Escribe un código que utilice KernelPCA con rbf y otra función de kernel para separar\n",
        "círculos concéntricos; compara los resultados con el uso de PCA sobre los mismos datos (10p)"
      ]
    },
    {
      "cell_type": "code",
      "metadata": {
        "colab": {
          "base_uri": "https://localhost:8080/",
          "height": 265
        },
        "id": "rb-ehD5k2ujv",
        "outputId": "f11456a3-24d6-41ec-a91d-316a9abbb47d"
      },
      "source": [
        "# Vamos a importar el conjunto de datos de Circulos Concentricos desde skalearn:\n",
        "\n",
        "from sklearn.datasets import make_circles\n",
        "X, y = make_circles(n_samples =1000, random_state=123, noise=0.1, factor=0.2)\n",
        "\n",
        "# Vamos a Gráficar:\n",
        "\n",
        "plt.scatter(X[y==0, 0], X[y==0, 1], color= 'red', marker='^', alpha =0.5)\n",
        "plt.scatter(X[y==1, 0], X[y==1, 1], color= 'blue' , marker='o', alpha=0.5)\n",
        "plt.show()"
      ],
      "execution_count": null,
      "outputs": [
        {
          "output_type": "display_data",
          "data": {
            "image/png": "[encoded data removed]",
            "text/plain": [
              "<Figure size 432x288 with 1 Axes>"
            ]
          },
          "metadata": {
            "needs_background": "light"
          }
        }
      ]
    },
    {
      "cell_type": "code",
      "metadata": {
        "id": "06MbpQ527eMo"
      },
      "source": [
        "# Vamos a importar Kernel PCA desde Skalearn\n",
        "from sklearn.decomposition import KernelPCA\n",
        "\n",
        "# Vamos a inicializar dos clasificadores, cada uno con kernels diferentes, uno con\n",
        "# 'rbf' - radial basis function\n",
        "# 'poly' -  Polinomial\n",
        "\n",
        "kpca1 = KernelPCA(n_components=1, kernel= 'rbf', gamma=15)\n",
        "kpca2 = KernelPCA(n_components=1, kernel= 'poly', gamma=15)"
      ],
      "execution_count": 27,
      "outputs": []
    },
    {
      "cell_type": "markdown",
      "metadata": {
        "id": "S3bcBLOwNflp"
      },
      "source": [
        "**RBF**"
      ]
    },
    {
      "cell_type": "code",
      "metadata": {
        "colab": {
          "base_uri": "https://localhost:8080/",
          "height": 282
        },
        "id": "96844zcxNeB3",
        "outputId": "946f09ca-7e73-441c-a712-f7fa39d6c5c0"
      },
      "source": [
        "# Vamos a Clasificar:\n",
        "X_kpca1 = kpca1.fit_transform(X)\n",
        "\n",
        "# Gráfica\n",
        "plt.scatter(X_kpca1[y==0, 0], np.zeros((500,1)), color='red',\n",
        "marker='^', alpha =0.5)\n",
        "plt.scatter(X_kpca1[y==1, 0], np.zeros((500,1)), color='blue',\n",
        "marker='o', alpha=0.5)"
      ],
      "execution_count": 29,
      "outputs": [
        {
          "output_type": "execute_result",
          "data": {
            "text/plain": [
              "<matplotlib.collections.PathCollection at 0x7faee3710610>"
            ]
          },
          "metadata": {},
          "execution_count": 29
        },
        {
          "output_type": "display_data",
          "data": {
            "image/png": "[encoded data removed]",
            "text/plain": [
              "<Figure size 432x288 with 1 Axes>"
            ]
          },
          "metadata": {
            "needs_background": "light"
          }
        }
      ]
    },
    {
      "cell_type": "markdown",
      "metadata": {
        "id": "HAqbrL94ODBu"
      },
      "source": [
        "**POLY**"
      ]
    },
    {
      "cell_type": "code",
      "metadata": {
        "colab": {
          "base_uri": "https://localhost:8080/",
          "height": 282
        },
        "id": "u5NNv39wOE6B",
        "outputId": "ccbf2ba7-c4fe-41fb-e41d-536e5af0d66b"
      },
      "source": [
        "# Vamos a Clasificar:\n",
        "X_kpca2 = kpca2.fit_transform(X)\n",
        "\n",
        "# Gráfica\n",
        "plt.scatter(X_kpca2[y==0, 0], np.zeros((500,1)), color='red',\n",
        "marker='^', alpha =0.5)\n",
        "plt.scatter(X_kpca2[y==1, 0], np.zeros((500,1)), color='blue',\n",
        "marker='o', alpha=0.5)"
      ],
      "execution_count": 30,
      "outputs": [
        {
          "output_type": "execute_result",
          "data": {
            "text/plain": [
              "<matplotlib.collections.PathCollection at 0x7faef0553ad0>"
            ]
          },
          "metadata": {},
          "execution_count": 30
        },
        {
          "output_type": "display_data",
          "data": {
            "image/png": "[encoded data removed]",
            "text/plain": [
              "<Figure size 432x288 with 1 Axes>"
            ]
          },
          "metadata": {
            "needs_background": "light"
          }
        }
      ]
    },
    {
      "cell_type": "markdown",
      "metadata": {
        "id": "qxkTv2mOOJ6m"
      },
      "source": [
        "**PCA** \n",
        "\n",
        "Vamos a clasificar por medio de PCA de Skalearn, aunque es de esperarse que no lo logre clasificar y solo proyecte."
      ]
    },
    {
      "cell_type": "code",
      "metadata": {
        "colab": {
          "base_uri": "https://localhost:8080/",
          "height": 282
        },
        "id": "7POQ7_ZEOTRn",
        "outputId": "1868a94f-9303-4058-b96d-aeb2571869a8"
      },
      "source": [
        "# Importamos PCA\n",
        "from sklearn.decomposition import PCA\n",
        "\n",
        "# Iniciamos y Clasificamos\n",
        "pca = PCA(n_components=2)\n",
        "X_pca = pca.fit_transform(X)\n",
        "\n",
        "# Gráfica\n",
        "\n",
        "plt.scatter(X_pca[y==0, 0], np.zeros((500,1)), color='red',\n",
        "marker='^', alpha =0.5)\n",
        "plt.scatter(X_pca[y==1, 0], np.zeros((500,1)), color='blue',\n",
        "marker='o', alpha=0.5)"
      ],
      "execution_count": 31,
      "outputs": [
        {
          "output_type": "execute_result",
          "data": {
            "text/plain": [
              "<matplotlib.collections.PathCollection at 0x7faeec3cd690>"
            ]
          },
          "metadata": {},
          "execution_count": 31
        },
        {
          "output_type": "display_data",
          "data": {
            "image/png": "[encoded data removed]",
            "text/plain": [
              "<Figure size 432x288 with 1 Axes>"
            ]
          },
          "metadata": {
            "needs_background": "light"
          }
        }
      ]
    },
    {
      "cell_type": "markdown",
      "metadata": {
        "id": "d0ykd0M31RS5"
      },
      "source": [
        "---\n",
        "\n",
        "7. Elige dos estimadores y demuestra que definen algoritmos escalables (10p)\n",
        "\n",
        "  $\\underset{p \\times 1}{\\mathbf{x}}=n^{-1}\\left[\\sum_{i=1}^{n} x_{i, 1}, \\ldots, \\sum_{i=1}^{n} x_{i, p}\\right]^{T} \\quad \\hat{\\sigma}_{j}^{2}=n^{-1} \\sum_{i=1}^{n} x_{i, j}^{2}-\\bar{x}_{j}^{2} \\quad \\hat{\\sigma}_{j k}=n^{-1} \\sum_{i=1}^{n} x_{i, j} x_{i, k}-\\bar{x}_{j} \\bar{x}_{k}$"
      ]
    },
    {
      "cell_type": "markdown",
      "metadata": {
        "id": "h1QloHS6D6le"
      },
      "source": [
        "1. Sea un conjunto de datos consistente de $n$ observaciones $D=\\left\\{\\mathbf{x}_{1}, \\ldots, \\mathbf{x}_{n}\\right\\}$, donde cada una es un vector de $p$ variables $\\underset{p \\times 1}{\\mathbf{x}_{i}}=\\left[x_{i, 1}, \\ldots, x_{i, p}\\right]^{T}$\n",
        "\n",
        "  Dividamos el conjunto $D$ en $\\boldsymbol{D}_{1}=\\left\\{\\mathbf{x}_{1}, \\ldots, \\mathbf{x}_{m}\\right\\}$ у $D_{2}=\\left\\{\\mathbf{x}_{m+1}, \\ldots, \\mathbf{x}_{n}\\right\\}$\n",
        "    \n",
        "Entonces podemos pensar al estimador como:\n",
        "    \n",
        "$$\n",
        "\\underset{2 \\times \\mathbf{1}}{s(D)}= \\left[\\begin{array}{c}\n",
        "\\left[\\sum_{i=1}^{m} x_{i, 1}, \\ldots, \\sum_{i=1}^{m} x_{i, p}\\right]^{T} \\\\\n",
        "n\n",
        "\\end{array}\\right]\n",
        "$$\n",
        "    \n",
        "Calculemos cada una de forma que:\n",
        "\n",
        "$$\\underset{p \\times 1}{\\mathbf{x_1}}=\\left[\\sum_{i=1}^{m} x_{i, 1}, \\ldots, \\sum_{i=1}^{m} x_{i, p}\\right]^{T}$$\n",
        "\n",
        "$$\\underset{p \\times 1}{\\mathbf{x_2}}=\\left[\\sum_{i=(m+1)}^{n} x_{i, 1}, \\ldots, \\sum_{i=(m+1)}^{n} x_{i, p}\\right]^{T}$$\n",
        "\n",
        "Sumemos ambbos resultados, recordmos que los vectores se suman componente por componente:\n",
        "\n",
        "$$\n",
        "\\begin{align}\n",
        "\\underset{p \\times 1}{\\mathbf{x_1}} + \\underset{p \\times 1}{\\mathbf{x_2}} = &  \\left[\\sum_{i=1}^{m} x_{i, 1}, \\ldots, \\sum_{i=1}^{m} x_{i, p}\\right]^{T} + \\left[\\sum_{i=(m+1)}^{n} x_{i, 1}, \\ldots, \\sum_{i=(m+1)}^{n} x_{i, p}\\right]^{T} \\\\\n",
        "     = &  \\left[\\sum_{i=1}^{m} x_{i, 1} + \\sum_{i=(m+1)}^{n} x_{i, 1}, \\ldots, \\sum_{i=1}^{m} x_{i, p} + \\sum_{i=(m+1)}^{n} x_{i, p}\\right]^{T} \\\\\n",
        "     = & \\left[\\sum_{i=1}^{n} x_{i, 1}, \\ldots, \\sum_{i=1}^{n} x_{i, p}\\right]^{T}\n",
        "     \\end{align}\n",
        "$$\n",
        "    \n",
        "Entonces:\n",
        "    \n",
        "$$\n",
        "\\underset{2 \\times \\mathbf{1}}{s(D_1)} + \\underset{2 \\times \\mathbf{1}}{s(D_2)} = \\left[\\begin{array}{c}\n",
        "\\underset{p \\times 1}{\\mathbf{x_1}} + \\underset{p \\times 1}{\\mathbf{x_2}} \\\\\n",
        " m + (n-m)\n",
        "\\end{array}\\right] = \n",
        "\\left[\\begin{array}{c}\n",
        "\\left[\\sum_{i=1}^{m} x_{i, 1}, \\ldots, \\sum_{i=1}^{m} x_{i, p}\\right]^{T} \\\\\n",
        "n\n",
        "\\end{array}\\right] = \\underset{2 \\times \\mathbf{1}}{s(D)}\n",
        "$$\n",
        "\n",
        "Por lo que se trata de Algoritmos escalables (aunque habría que demostrar que se cumple para k+1)."
      ]
    },
    {
      "cell_type": "code",
      "metadata": {
        "id": "MwPxiYdJ2wW6"
      },
      "source": [
        ""
      ],
      "execution_count": null,
      "outputs": []
    },
    {
      "cell_type": "markdown",
      "metadata": {
        "id": "wJUge35E1hTB"
      },
      "source": [
        "----\n",
        "\n",
        "8. Obtén las expresiones para determinar los intervalos de contenedores para histogramas bidi- mensionales en función del número de contenedores (5p)"
      ]
    },
    {
      "cell_type": "code",
      "metadata": {
        "id": "KkyGGzLq2wzd"
      },
      "source": [
        ""
      ],
      "execution_count": null,
      "outputs": []
    },
    {
      "cell_type": "markdown",
      "metadata": {
        "id": "NszSDp4n1k-S"
      },
      "source": [
        "----\n",
        "\n",
        "9. Un resorte se somete a estiramiento aplicando distintos pesos $(\\mathbf{X})$ y se anotó su alargamiento (y); utilizando la solución de la ecuación normal, determina los estimadores $\\hat{\\boldsymbol{\\beta}}, \\sigma_{\\epsilon}^{2}, \\operatorname{var}(\\hat{\\boldsymbol{\\beta}})$\n",
        "  $$\n",
        "  \\begin{aligned}\n",
        "  &\\mathbf{X}=[0.5,1.07,1.64,2.21,2.79,3.36,3.93,4.5] \\\\\n",
        "  &\\mathbf{y}=[0.19,0.25,0.51,0.57,0.83,0.99,1.06,1.31]\n",
        "  \\end{aligned}\n",
        "  $$\n",
        "  Debes mostrar la forma de calcular $\\mathbf{X}^{T} \\mathbf{X}$ y su inversa $(10 p)$"
      ]
    },
    {
      "cell_type": "code",
      "metadata": {
        "id": "V0h9Emdi2xls"
      },
      "source": [
        ""
      ],
      "execution_count": null,
      "outputs": []
    },
    {
      "cell_type": "markdown",
      "metadata": {
        "id": "ncAV9oVn1wsG"
      },
      "source": [
        "----\n",
        "\n",
        "10. Con los datos del problema anterior, escribe un código para comparar el resultado obtenido con la regresión lineal estándar y el uso de las regularizaciones Lasso y ElasticNet tomando dos muestras para entrenamiento (5p)"
      ]
    }
  ]
}