{
  "nbformat": 4,
  "nbformat_minor": 0,
  "metadata": {
    "colab": {
      "name": "ExamenParcial1_Paradigmas.ipynb",
      "provenance": [],
      "collapsed_sections": [],
      "include_colab_link": true
    },
    "kernelspec": {
      "name": "python3",
      "display_name": "Python 3"
    },
    "language_info": {
      "name": "python"
    }
  },
  "cells": [
    {
      "cell_type": "markdown",
      "metadata": {
        "id": "view-in-github",
        "colab_type": "text"
      },
      "source": [
        "<a href=\"https://colab.research.google.com/github/danielfrgs/LCD-PCCD-2021-1/blob/main/ExamenParcial1_Paradigmas.ipynb\" target=\"_parent\"><img src=\"https://colab.research.google.com/assets/colab-badge.svg\" alt=\"Open In Colab\"/></a>"
      ]
    },
    {
      "cell_type": "markdown",
      "metadata": {
        "id": "_nIp_UNq0g7T"
      },
      "source": [
        "# Examen Parcial 1.\n",
        "\n",
        "Fragoso Alvarado Daniel\n",
        "\n",
        "Gómez Martinez Jesús Enrique\n",
        "\n",
        "Rangel Rámirez Hugo"
      ]
    },
    {
      "cell_type": "markdown",
      "metadata": {
        "id": "27B5gZzN0x_S"
      },
      "source": [
        "---\n",
        "\n",
        "1. Obtén las funciones discriminantes del clasificador determinista y también el estadístico para el conjunto de datos Iris; elige al menos dos conjuntos diferentes de columnas para generar funciones diferentes (10p)\n"
      ]
    },
    {
      "cell_type": "markdown",
      "metadata": {
        "id": "eqJqNdmri0pS"
      },
      "source": [
        "El conjunto Iris tiene tres clases distintas: Setosa, Versicolor y Virginica, entonces se crearán 3 funciones discriminantes, una para cada tipo. \\\\\n",
        "\n",
        "### Clasificador Determinista:\n",
        "Recordemos que para el clasificador determinista la función discriminante está dada por la siguiente fórmula:\n",
        "$$fd_K(X) = X^{T}\\cdot Z_K -\\frac{1}{2}Z_{K}^{T}\\cdot Z_K$$\n",
        "Donde $K$ son las distintas clases y $Z_K$ es el \"prototipo\" de la clase, en este caso se usará la media de los valores de la clase para ese prototipo. \\\\\n",
        "\n",
        "En el siguiente código se muestrá cómo se calculan los distintos términos de las funciones discriminantes. (Para este clasificador se eligieron las primeras dos columnas del dataset)."
      ]
    },
    {
      "cell_type": "code",
      "metadata": {
        "id": "8GkMvx582r7F",
        "colab": {
          "base_uri": "https://localhost:8080/"
        },
        "outputId": "83e23140-5290-469f-c1c0-22e320c7b82f"
      },
      "source": [
        "import pandas as pd\n",
        "import numpy as np\n",
        "\n",
        "data = pd.read_csv(\"https://bit.ly/38XWXS4\", names=['SLength','SWidth','PLength','PWidth','Species'])\n",
        "\n",
        "#Separación de los datos por clase\n",
        "is_setosa = data.loc[:,'Species'] == 'Iris-setosa'\n",
        "is_versicolor = data.loc[:,'Species'] == 'Iris-versicolor'\n",
        "is_virginica = data.loc[:,'Species'] == 'Iris-virginica'\n",
        "\n",
        "setosa = data.loc[is_setosa] \n",
        "versicolor = data.loc[is_versicolor]\n",
        "virginica = data.loc[is_virginica]\n",
        "\n",
        "# Elección de las primeras dos columnas\n",
        "setosa = np.array(setosa.iloc[:,0:2])\n",
        "versicolor = np.array(versicolor.iloc[:,0:2])\n",
        "virginica = np.array(virginica.iloc[:,0:2])\n",
        "\n",
        "# Prototipos de la clase\n",
        "media_setosa = setosa.mean(axis=0)\n",
        "media_versicolor = versicolor.mean(axis=0)\n",
        "media_virginica = virginica.mean(axis=0)\n",
        "\n",
        "print(\"Media setosa = \", media_setosa)\n",
        "print(\"Media vericolor = \", media_versicolor)\n",
        "print(\"Media virginica = \", media_virginica)\n",
        "\n",
        "# Último sumando de la fórmula\n",
        "const_setosa = (-.5)*(media_setosa @ media_setosa.T)\n",
        "const_versicolor = (-.5)*(media_versicolor @ media_versicolor.T)\n",
        "const_virginica = (-.5)*(media_virginica @ media_virginica.T)\n",
        "\n",
        "print(\"\\n Último sumando setosa:\", const_setosa)\n",
        "print(\"\\n Último sumando versicolor:\", const_versicolor)\n",
        "print(\"\\n Último sumando vriginica:\", const_virginica)"
      ],
      "execution_count": null,
      "outputs": [
        {
          "output_type": "stream",
          "name": "stdout",
          "text": [
            "Media setosa =  [5.006 3.418]\n",
            "Media vericolor =  [5.936 2.77 ]\n",
            "Media virginica =  [6.588 2.974]\n",
            "\n",
            " Último sumando setosa: -18.371380000000002\n",
            "\n",
            " Último sumando versicolor: -21.454498\n",
            "\n",
            " Último sumando vriginica: -26.12320999999999\n"
          ]
        }
      ]
    },
    {
      "cell_type": "markdown",
      "metadata": {
        "id": "UEh2xKcti-il"
      },
      "source": [
        "Entonces las funciones discriminantes son:\n",
        "\n",
        "\\begin{align}\n",
        "fd_{setosa}(X) = X^{T} \\cdot (5.006, 3.418)^T -18.37138 = 5.006\\cdot x_1 + 3.418\\cdot x_2 -18.37138\\\\\n",
        "fd_{versicolor}(X) = X^{T} \\cdot (5.936, 2.77)^T -21.454498 = 5.936 \\cdot x_1 + 2.77 \\cdot x_2 -21.454498 \\\\\n",
        "fd_{virginica}(X) = X^{T} \\cdot (6.588, 2.974)^T -26.12321 = 6.588 \\cdot x_1 + 2.974 \\cdot x_2 -26.12321 \\\\\n",
        "\\end{align}\n",
        "\n",
        "\\\\\n",
        "### Clasificador Estadístico\n",
        "Para el clasificador estadístico se sabe que la función discriminante para cada clase es:\n",
        "$$fd_i(X)=- \\frac{1}{2} X^T\\cdot C_i^{-1} \\cdot X + X^T \\cdot C_i^{-1} \\cdot m_i -\\frac{1}{2}m_i^T \\cdot C_i^{-1} \\cdot m_i - \\frac{1}{2} \\ln{|C_i|}$$\n",
        "Donde $m_i$ es la media de la clase y $C_i$ es la matriz de covarianza de la clase. \\\\\n",
        "\n",
        "En el siguiente código se meustra cómo se calculan algunos de los términos de la fórmula. (Se eligieron ahora la tercera y segunda columna para hacer el clasificador, con el objetivo de obtener uno distinto al determinista)."
      ]
    },
    {
      "cell_type": "code",
      "metadata": {
        "colab": {
          "base_uri": "https://localhost:8080/"
        },
        "id": "AEx6jGqCi6Wo",
        "outputId": "212d334f-2ca7-44c4-c25f-8c69842e84ea"
      },
      "source": [
        "# Función que calcula matriz de covarianza\n",
        "def matriz_cov(muestra, por_tuplas=False):\n",
        "  muestra = np.array(muestra)\n",
        "  if por_tuplas == True:\n",
        "    muestra = muestra.T\n",
        "  dim = muestra.shape[0]\n",
        "  total = muestra.shape[1]\n",
        "  media = np.zeros(dim)\n",
        "  for i in range(dim):\n",
        "    media[i] = sum(muestra[i,:])/total\n",
        "  matriz = np.zeros((dim, dim))\n",
        "  for i in range(dim):\n",
        "    for j in range(i+1):\n",
        "      matriz[i,j] = sum((muestra[i,:]-media[i])*(muestra[j,:]-media[j]))/total\n",
        "      matriz[j,i] = sum((muestra[i,:]-media[i])*(muestra[j,:]-media[j]))/total\n",
        "  return matriz\n",
        "\n",
        "# Elección de la tercera y cuarta columna\n",
        "setosa = data.loc[is_setosa] \n",
        "versicolor = data.loc[is_versicolor]\n",
        "virginica = data.loc[is_virginica]\n",
        "\n",
        "setosa = np.array(setosa.iloc[:,2:4])\n",
        "versicolor = np.array(versicolor.iloc[:,2:4])\n",
        "virginica = np.array(virginica.iloc[:,2:4])\n",
        "\n",
        "# Calculos relacionados a la función discriminate de setosa\n",
        "\n",
        "# media\n",
        "m1 = setosa.mean(axis=0)\n",
        "# matriz de covarianza\n",
        "c1 = matriz_cov(setosa,True)\n",
        "# inversa de la matriz de covarianza\n",
        "inv_c1 = np.linalg.inv(c1)\n",
        "#últimos dos sumandos de la fórmula\n",
        "const1 =  (-.5)*(m1 @ inv_c1 @ m1.T) + (-.5)*np.log(abs(np.linalg.det(c1)))\n",
        "# Parte del segundo sumando de la fórmula\n",
        "termino2_1 = inv_c1 @ m1.T\n",
        "\n",
        "print(\"\\n inversa matriz cov setosa = \\n\", inv_c1)\n",
        "print(\"Parte del segundo término = \", termino2_1)\n",
        "print(\"Últimos dos sumandos\", const1)\n",
        "\n",
        "\n",
        "# Calculos relacionados a la función discriminate de versicolor\n",
        "m2 = versicolor.mean(axis=0)\n",
        "c2 = matriz_cov(versicolor,True)\n",
        "inv_c2 = np.linalg.inv(c2)\n",
        "const2 =  (-.5)*(m2 @ inv_c2 @ m2.T) + (-.5)*np.log(abs(np.linalg.det(c2)))\n",
        "termino2_2 = inv_c2 @ m2.T\n",
        " \n",
        "print(\"\\n inversa matriz cov versicolor = \\n\", inv_c2)\n",
        "print(\"Parte del segundo término = \", termino2_2)\n",
        "print(\"Últimos dos sumandos\", const2)\n",
        "\n",
        "# Calculos relacionados a la función discriminate de virginica\n",
        "\n",
        "m3 = virginica.mean(axis=0)\n",
        "c3 = matriz_cov(virginica,True)\n",
        "inv_c3 = np.linalg.inv(c3)\n",
        "const3 =  (-.5)*(m3 @ inv_c3 @ m3.T) + (-.5)*np.log(abs(np.linalg.det(c3)))\n",
        "termino2_3 = inv_c3 @ m3.T\n",
        " \n",
        "print(\"\\n inversa matriz cov virginica = \\n\", inv_c3)\n",
        "print(\"Parte del segundo término = \", termino2_3)\n",
        "print(\"Últimos dos sumandos\", const3)"
      ],
      "execution_count": null,
      "outputs": [
        {
          "output_type": "stream",
          "name": "stdout",
          "text": [
            "\n",
            " inversa matriz cov setosa = \n",
            " [[ 37.403039   -18.54213155]\n",
            " [-18.54213155  97.9704601 ]]\n",
            "Parte del segundo término =  [50.23376899 -3.24088832]\n",
            "Últimos dos sumandos -32.321782809461446\n",
            "\n",
            " inversa matriz cov versicolor = \n",
            " [[ 12.12391934 -22.66354194]\n",
            " [-22.66354194  68.45882853]]\n",
            "Parte del segundo término =  [21.59603976 -5.77028204]\n",
            "Últimos dos sumandos -39.2954380820701\n",
            "\n",
            " inversa matriz cov virginica = \n",
            " [[ 3.73795535 -2.41942654]\n",
            " [-2.41942654 15.09340297]]\n",
            "Parte del segundo término =  [15.85136995 17.14657825]\n",
            "Últimos dos sumandos -59.41125849077769\n"
          ]
        }
      ]
    },
    {
      "cell_type": "markdown",
      "metadata": {
        "id": "tw59g9IijLwR"
      },
      "source": [
        "Entonces las funciones discriminantes son: \n",
        "\n",
        "\\begin{align}\n",
        "fd_{setosa}(X) &=-\\frac{1}{2} X^T\\cdot \\left(\\begin{array}{cc}\n",
        "37.4030 & -18.5421 \\\\\n",
        "-18.5421 & 97.9704\n",
        "\\end{array}\\right) \\cdot X + X^T \\cdot (50.2337, -3.2408) -32.3217 \\\\\n",
        "&= X^T\\cdot \\left(\\begin{array}{cc}\n",
        "-18.7015 & 9.2711 \\\\\n",
        "9.2711 & -48.9852\n",
        "\\end{array}\\right) \\cdot X + 50.2337 \\cdot x_1 -3.2408 \\cdot x_2 -32.3217\n",
        "\\end{align}\n",
        "\n",
        "\\begin{align}\n",
        "fd_{versicolor}(X) &=-\\frac{1}{2} X^T\\cdot \\left(\\begin{array}{cc}\n",
        "12.1239 & -22.6635 \\\\\n",
        "-22.6635 & 68.4588\n",
        "\\end{array}\\right) \\cdot X + X^T \\cdot (21.5960, -5.7702) -39.2954 \\\\\n",
        "&= X^T\\cdot \\left(\\begin{array}{cc}\n",
        "-6.0619 & 11.3518 \\\\\n",
        "11.3518 & -34.2294\n",
        "\\end{array}\\right) \\cdot X + 21.5960 \\cdot x_1 -5.7702 \\cdot x_2 -39.2954\n",
        "\\end{align}\n",
        "\n",
        "\\begin{align}\n",
        "fd_{setosa}(X) &=-\\frac{1}{2} X^T\\cdot \\left(\\begin{array}{cc}\n",
        "3.7379 & -2.4194 \\\\\n",
        "-2.4194 & 15.0934\n",
        "\\end{array}\\right) \\cdot X + X^T \\cdot (15.8513, 17.1465) -59.4112 \\\\\n",
        "&= X^T\\cdot \\left(\\begin{array}{cc}\n",
        "-1.8690 & 1.2097 \\\\\n",
        "1.2097 & -7.5467\n",
        "\\end{array}\\right) \\cdot X + 15.8513 \\cdot x_1 + 17.1465 \\cdot x_2 -59.4112 \n",
        "\\end{align}\n",
        "\n",
        "\n",
        "Ya no nos da tiempo de hacer esa multiplicación, pero ya está :)"
      ]
    },
    {
      "cell_type": "markdown",
      "metadata": {
        "id": "_T3miFI705cu"
      },
      "source": [
        "---\n",
        "\n",
        "2. Aplica la regla de aprendizaje para los pesos de una neurona artificial basada en el modelo del perceptron que calcule la función booleana XOR de dos parámetros mostrando la evolución de los pesos (8p)\n",
        "Nota: El algoritmo sí termina con pesos inicializados a 0, explica a qué se debe"
      ]
    },
    {
      "cell_type": "markdown",
      "metadata": {
        "id": "1aF0pU9g8Cj1"
      },
      "source": [
        "Veamos que la función booleana XOR esta descrita por:\n",
        "\n",
        "$$\n",
        "\\begin{array}{cc|c}\n",
        "x_{1} & x_{2} & y \\\\\n",
        "\\hline 0 & 0 & 0 \\\\\n",
        "0 & 1 & 1 \\\\\n",
        "1 & 0 & 1 \\\\\n",
        "1 & 1 & 0\n",
        "\\end{array}\n",
        "$$\n",
        "\n",
        "Recordemos por lo visto en clase que: "
      ]
    },
    {
      "cell_type": "code",
      "metadata": {
        "id": "7a2EEBR02saB"
      },
      "source": [
        "import numpy as np\n",
        "\n",
        "class Perceptron(object):\n",
        "    def __init__(self, eta =0.01, n_iter =50, random_state =1):\n",
        "        self.eta = eta\n",
        "        self.n_iter = n_iter\n",
        "        self.random_state = random_state\n",
        "        \n",
        "    def fit(self, X, y ):\n",
        "        rgen = np.random.RandomState(self.random_state)\n",
        "        if self.random_state is None :\n",
        "            self.w_ = np.zeros (1 + len (X [1]))\n",
        "        else :\n",
        "            self.w_ = rgen.normal (loc = 0.0, scale = 0.01, size = 1 + X.shape [1])\n",
        "            self.errors_ = []\n",
        "        for _ in range (self.n_iter):\n",
        "            errors = 0\n",
        "            for xi , yi in zip (X , y ):\n",
        "                update = self.eta * (yi - self.predict(xi))\n",
        "                self.w_[1:] += update * xi\n",
        "                self.w_[0] += update\n",
        "                errors += int(update != 0.0)\n",
        "            print(self.w_)\n",
        "            self.errors_.append(errors)\n",
        "        return self\n",
        "                                       \n",
        "    def net_input(self , X):\n",
        "        return np.dot (X , self.w_[1:]) + self.w_[0]\n",
        "                                       \n",
        "    def predict(self , X ):\n",
        "        return np.where (self.net_input(X) >= 0.0 , 1, -1)"
      ],
      "execution_count": null,
      "outputs": []
    },
    {
      "cell_type": "markdown",
      "metadata": {
        "id": "bAM_ipy28PeW"
      },
      "source": [
        "Aplicamos el modelo a los pesos de una función booleana XOR."
      ]
    },
    {
      "cell_type": "code",
      "metadata": {
        "colab": {
          "base_uri": "https://localhost:8080/"
        },
        "id": "dl_jNF428OWD",
        "outputId": "e8930465-48df-4943-a84f-df9b61762853"
      },
      "source": [
        "X =  np.array([[0 ,0], [0 ,1], [1 ,0], [1 ,1]])\n",
        "y =  np.array([0 ,1 ,1 , 0])\n",
        "\n",
        "ppn = Perceptron(n_iter =6, eta =0.1)\n",
        "ppn.fit(X, y)\n",
        "print('Pesos : %s ' % ppn.w_)"
      ],
      "execution_count": null,
      "outputs": [
        {
          "output_type": "stream",
          "name": "stdout",
          "text": [
            "[ 0.01624345 -0.10611756  0.09471828]\n",
            "[ 0.01624345 -0.00611756 -0.00528172]\n",
            "[ 0.01624345 -0.10611756  0.09471828]\n",
            "[ 0.01624345 -0.00611756 -0.00528172]\n",
            "[ 0.01624345 -0.10611756  0.09471828]\n",
            "[ 0.01624345 -0.00611756 -0.00528172]\n",
            "Pesos : [ 0.01624345 -0.00611756 -0.00528172] \n"
          ]
        }
      ]
    },
    {
      "cell_type": "markdown",
      "metadata": {
        "id": "b3I_de6wByiC"
      },
      "source": [
        "Cuando se inicializan los pesos en $0$, el parámetro $\\eta$  afecta unicamente la escala del vector de pesos, pero deja intacta la dirección de este, dando lugar así a que el algortimo concluya pero no realice una eficiente y correcta tasa de aprendizaje sobre los pesos."
      ]
    },
    {
      "cell_type": "markdown",
      "metadata": {
        "id": "kd6ta0oh0-US"
      },
      "source": [
        "----\n",
        "\n",
        "3. ¿La regresión logística puede separar bien la función booleana XOR de dos parámetros? Argumenta tu respuesta (5p)"
      ]
    },
    {
      "cell_type": "markdown",
      "metadata": {
        "id": "C9lyagtL-YxA"
      },
      "source": [
        "No es posible separarlos bien. Si utilizamos un diagrama que muestre las sálidas de la función booleana XOR, teniendo como ejes los parámetros de entrada, encontraremos que las sálidas forman un cuadrado donde, justamente las sálidas verdaderas están en vértices opuestos de la figura, de tal modo que utilizar una recta para separarlas no es viable. Luego, al no poder separarse bien linealmente, no existe garantía de que la regla de aprendizaje converja."
      ]
    },
    {
      "cell_type": "markdown",
      "metadata": {
        "id": "Qv4w2HDh1Dku"
      },
      "source": [
        "---\n",
        "\n",
        "4. Escribe un pseudocódigo detallado del algoritmo Sequential Forward Selection (5p)"
      ]
    },
    {
      "cell_type": "markdown",
      "metadata": {
        "id": "vpoyRGrMHGo4"
      },
      "source": [
        "El *Sequential Forward Selection (SFS)*, al igual que el *SBS*, pertenecen a una familia de algoritmos cuya función principal es reducir la dimensionalidad del conjunto de datos con el propósito de minimizar el error, mejorar la eficiencia computacional y eliminar ruido y datos innecesarios para la resolución de un determinado problema.\n",
        "\n",
        "El *SFS* recibe el conjunto completo de dimensión $d$ y regresa un subconjunto de dimensión $k < d$, con $k$ el número de características especificado a priori.\n",
        "\n",
        "El algoritmo inicia creando un conjunto vacío (y por ende $k=0$).\n",
        "Luego se añade una característica $x$ al conjunto vacío. \n",
        "Esta característica es la que maximiza la eficiencia del clasificador o función de criterio cuando se agrega al conjunto.\n",
        "Se repite esto hasta que se satisfaga el criterio para terminar el proceso.\n",
        "El criterio para terminar es aquel que se estableció a priori, es decir, el algoritmo sigue añadiendo caractarísticas hasta que $k=p$ para una $p$ determinada.\n",
        "\n",
        "En general es fácil darse cuenta que este algoritmo hace lo análogo al *SBS*\n",
        "\n",
        "**Pseudocodigo**\n",
        "\n",
        "1.- Crear un conjunto vacío $X_{k}=\\{\\varnothing\\}$\n",
        "\n",
        "2.- Seleccionar la mejor característica $x=\\arg \\max J(X_{k}+x)$ del conjunto completo\n",
        "\n",
        "3.- Si $J(X_{k}+x)> J(X_{k})$, actualizamos $X_{k+1}=X_{k}+x$\n",
        "\n",
        "4.- Hacemos $k=k+1$ y volvemos al paso 2."
      ]
    },
    {
      "cell_type": "markdown",
      "metadata": {
        "id": "Z6nzxKXf1Ik-"
      },
      "source": [
        "----\n",
        "\n",
        "5. ¿Qué sucede al utilizar Linear Discriminant Analysis (LDA) sobre el conjunto de medias\n",
        "lunas? Escribe un código que lo muestre (7p)"
      ]
    },
    {
      "cell_type": "markdown",
      "metadata": {
        "id": "PkBaH-AE3J7d"
      },
      "source": [
        "**Respuesta:**\n",
        "\n",
        "Recordemos que el objetivo de LDA es encontrar un subespacio de características que optimice la separabilidad de clases. Sin embargo, el algoritmo requiere de una clara definición, o mejor dicho, separación entre los datos para su clasificación, lo que no ocurre con las medias lunas, por lo que esperariamos que no lo logre clasificar, más aún, debido a la falta de caracteristicas para geneerar el subespacio, solo generará una proyección donde parte de los datos estarán encimados.\n",
        "\n",
        "A continuación se muestra un código, aplicando LDA cargado en Skalearn:"
      ]
    },
    {
      "cell_type": "code",
      "metadata": {
        "colab": {
          "base_uri": "https://localhost:8080/",
          "height": 265
        },
        "id": "UYBxn0pB2uAd",
        "outputId": "90e7048e-9027-4e79-9691-66f15c6b752e"
      },
      "source": [
        "# Primero vamos a importar las medias lunas de sklearn\n",
        "from sklearn.datasets import make_moons\n",
        "import numpy as np\n",
        "import matplotlib.pyplot as plt\n",
        "\n",
        "X, y = make_moons(n_samples =100, random_state=123)\n",
        "\n",
        "# Vamos a gráficarlas para tener una muestra visual:\n",
        "plt.scatter(X[y==0, 0], X[y==0, 1], color= 'red', marker='^', alpha =0.5)\n",
        "plt.scatter(X[y==1, 0], X[y==1, 1], color= 'blue' , marker='o', alpha=0.5)\n",
        "plt.show()"
      ],
      "execution_count": null,
      "outputs": [
        {
          "output_type": "display_data",
          "data": {
            "image/png": "[encoded data removed]",
            "text/plain": [
              "<Figure size 432x288 with 1 Axes>"
            ]
          },
          "metadata": {
            "needs_background": "light"
          }
        }
      ]
    },
    {
      "cell_type": "code",
      "metadata": {
        "id": "ehNyH7tB4_7t"
      },
      "source": [
        "# Vamos a separar en entrenamiento y prueba \n",
        "from sklearn.model_selection import train_test_split\n",
        "X_train , X_test , y_train , y_test = train_test_split(X, y, test_size =0.3)"
      ],
      "execution_count": null,
      "outputs": []
    },
    {
      "cell_type": "code",
      "metadata": {
        "id": "kjLeClYa5JKq"
      },
      "source": [
        "# Estandarizamos\n",
        "from sklearn.preprocessing import StandardScaler\n",
        "sc = StandardScaler()\n",
        "\n",
        "X_train_std = sc.fit_transform(X_train)\n",
        "X_test_std = sc.transform (X_test)"
      ],
      "execution_count": null,
      "outputs": []
    },
    {
      "cell_type": "code",
      "metadata": {
        "colab": {
          "base_uri": "https://localhost:8080/"
        },
        "id": "M-BciugH5aab",
        "outputId": "d491a24e-45da-44d3-cf2e-54394801bd3d"
      },
      "source": [
        "# Importamos el LDA de sklearn\n",
        "from sklearn.discriminant_analysis import LinearDiscriminantAnalysis as LDA\n",
        "\n",
        "# Regresión lineal:\n",
        "from sklearn.linear_model import LogisticRegression\n",
        "\n",
        "# inicializar LDA y el modelo de RL\n",
        "# n_components se hace 1\n",
        "lda = LDA(n_components=1)\n",
        "\n",
        "# Regresión lineal como clasificador:\n",
        "lr = LogisticRegression()\n",
        "\n",
        "# Ajustar y transformar los datos\n",
        "X_train_lda = lda.fit_transform(X_train_std, y_train)\n",
        "lr.fit(X_train_lda ,y_train)"
      ],
      "execution_count": null,
      "outputs": [
        {
          "output_type": "execute_result",
          "data": {
            "text/plain": [
              "LogisticRegression(C=1.0, class_weight=None, dual=False, fit_intercept=True,\n",
              "                   intercept_scaling=1, l1_ratio=None, max_iter=100,\n",
              "                   multi_class='auto', n_jobs=None, penalty='l2',\n",
              "                   random_state=None, solver='lbfgs', tol=0.0001, verbose=0,\n",
              "                   warm_start=False)"
            ]
          },
          "metadata": {},
          "execution_count": 44
        }
      ]
    },
    {
      "cell_type": "code",
      "metadata": {
        "colab": {
          "base_uri": "https://localhost:8080/",
          "height": 319
        },
        "id": "yBfmzgqD5jB-",
        "outputId": "179b3c0a-e964-4d7b-bdf3-70be06ec6376"
      },
      "source": [
        "# Vamos a gráficar:\n",
        "\n",
        "from mlxtend.plotting import plot_decision_regions\n",
        "\n",
        "plot_decision_regions(X_train_lda , y_train, clf=lr)\n",
        "plt.show()"
      ],
      "execution_count": null,
      "outputs": [
        {
          "output_type": "stream",
          "name": "stderr",
          "text": [
            "/usr/local/lib/python3.7/dist-packages/mlxtend/plotting/decision_regions.py:244: MatplotlibDeprecationWarning: Passing unsupported keyword arguments to axis() will raise a TypeError in 3.3.\n",
            "  ax.axis(xmin=xx.min(), xmax=xx.max(), y_min=yy.min(), y_max=yy.max())\n"
          ]
        },
        {
          "output_type": "display_data",
          "data": {
            "image/png": "[encoded data removed]",
            "text/plain": [
              "<Figure size 432x288 with 1 Axes>"
            ]
          },
          "metadata": {
            "needs_background": "light"
          }
        }
      ]
    },
    {
      "cell_type": "markdown",
      "metadata": {
        "id": "YO2Y5nPI1N6z"
      },
      "source": [
        "---\n",
        "\n",
        "\n",
        "6. Escribe un código que utilice KernelPCA con rbf y otra función de kernel para separar\n",
        "círculos concéntricos; compara los resultados con el uso de PCA sobre los mismos datos (10p)"
      ]
    },
    {
      "cell_type": "code",
      "metadata": {
        "colab": {
          "base_uri": "https://localhost:8080/",
          "height": 265
        },
        "id": "rb-ehD5k2ujv",
        "outputId": "f11456a3-24d6-41ec-a91d-316a9abbb47d"
      },
      "source": [
        "# Vamos a importar el conjunto de datos de Circulos Concentricos desde skalearn:\n",
        "\n",
        "from sklearn.datasets import make_circles\n",
        "X, y = make_circles(n_samples =1000, random_state=123, noise=0.1, factor=0.2)\n",
        "\n",
        "# Vamos a Gráficar:\n",
        "\n",
        "plt.scatter(X[y==0, 0], X[y==0, 1], color= 'red', marker='^', alpha =0.5)\n",
        "plt.scatter(X[y==1, 0], X[y==1, 1], color= 'blue' , marker='o', alpha=0.5)\n",
        "plt.show()"
      ],
      "execution_count": null,
      "outputs": [
        {
          "output_type": "display_data",
          "data": {
            "image/png": "[encoded data removed]",
            "text/plain": [
              "<Figure size 432x288 with 1 Axes>"
            ]
          },
          "metadata": {
            "needs_background": "light"
          }
        }
      ]
    },
    {
      "cell_type": "code",
      "metadata": {
        "id": "06MbpQ527eMo"
      },
      "source": [
        "# Vamos a importar Kernel PCA desde Skalearn\n",
        "from sklearn.decomposition import KernelPCA\n",
        "\n",
        "# Vamos a inicializar dos clasificadores, cada uno con kernels diferentes, uno con\n",
        "# 'rbf' - radial basis function\n",
        "# 'poly' -  Polinomial\n",
        "\n",
        "kpca1 = KernelPCA(n_components=1, kernel= 'rbf', gamma=15)\n",
        "kpca2 = KernelPCA(n_components=1, kernel= 'poly', gamma=15)"
      ],
      "execution_count": null,
      "outputs": []
    },
    {
      "cell_type": "markdown",
      "metadata": {
        "id": "S3bcBLOwNflp"
      },
      "source": [
        "**RBF**"
      ]
    },
    {
      "cell_type": "code",
      "metadata": {
        "colab": {
          "base_uri": "https://localhost:8080/",
          "height": 282
        },
        "id": "96844zcxNeB3",
        "outputId": "946f09ca-7e73-441c-a712-f7fa39d6c5c0"
      },
      "source": [
        "# Vamos a Clasificar:\n",
        "X_kpca1 = kpca1.fit_transform(X)\n",
        "\n",
        "# Gráfica\n",
        "plt.scatter(X_kpca1[y==0, 0], np.zeros((500,1)), color='red',\n",
        "marker='^', alpha =0.5)\n",
        "plt.scatter(X_kpca1[y==1, 0], np.zeros((500,1)), color='blue',\n",
        "marker='o', alpha=0.5)"
      ],
      "execution_count": null,
      "outputs": [
        {
          "output_type": "execute_result",
          "data": {
            "text/plain": [
              "<matplotlib.collections.PathCollection at 0x7faee3710610>"
            ]
          },
          "metadata": {},
          "execution_count": 29
        },
        {
          "output_type": "display_data",
          "data": {
            "image/png": "[encoded data removed]",
            "text/plain": [
              "<Figure size 432x288 with 1 Axes>"
            ]
          },
          "metadata": {
            "needs_background": "light"
          }
        }
      ]
    },
    {
      "cell_type": "markdown",
      "metadata": {
        "id": "HAqbrL94ODBu"
      },
      "source": [
        "**POLY**"
      ]
    },
    {
      "cell_type": "code",
      "metadata": {
        "colab": {
          "base_uri": "https://localhost:8080/",
          "height": 282
        },
        "id": "u5NNv39wOE6B",
        "outputId": "ccbf2ba7-c4fe-41fb-e41d-536e5af0d66b"
      },
      "source": [
        "# Vamos a Clasificar:\n",
        "X_kpca2 = kpca2.fit_transform(X)\n",
        "\n",
        "# Gráfica\n",
        "plt.scatter(X_kpca2[y==0, 0], np.zeros((500,1)), color='red',\n",
        "marker='^', alpha =0.5)\n",
        "plt.scatter(X_kpca2[y==1, 0], np.zeros((500,1)), color='blue',\n",
        "marker='o', alpha=0.5)"
      ],
      "execution_count": null,
      "outputs": [
        {
          "output_type": "execute_result",
          "data": {
            "text/plain": [
              "<matplotlib.collections.PathCollection at 0x7faef0553ad0>"
            ]
          },
          "metadata": {},
          "execution_count": 30
        },
        {
          "output_type": "display_data",
          "data": {
            "image/png": "[encoded data removed]",
            "text/plain": [
              "<Figure size 432x288 with 1 Axes>"
            ]
          },
          "metadata": {
            "needs_background": "light"
          }
        }
      ]
    },
    {
      "cell_type": "markdown",
      "metadata": {
        "id": "qxkTv2mOOJ6m"
      },
      "source": [
        "**PCA** \n",
        "\n",
        "Vamos a clasificar por medio de PCA de Skalearn, aunque es de esperarse que no lo logre clasificar y solo proyecte."
      ]
    },
    {
      "cell_type": "code",
      "metadata": {
        "colab": {
          "base_uri": "https://localhost:8080/",
          "height": 282
        },
        "id": "7POQ7_ZEOTRn",
        "outputId": "1868a94f-9303-4058-b96d-aeb2571869a8"
      },
      "source": [
        "# Importamos PCA\n",
        "from sklearn.decomposition import PCA\n",
        "\n",
        "# Iniciamos y Clasificamos\n",
        "pca = PCA(n_components=2)\n",
        "X_pca = pca.fit_transform(X)\n",
        "\n",
        "# Gráfica\n",
        "\n",
        "plt.scatter(X_pca[y==0, 0], np.zeros((500,1)), color='red',\n",
        "marker='^', alpha =0.5)\n",
        "plt.scatter(X_pca[y==1, 0], np.zeros((500,1)), color='blue',\n",
        "marker='o', alpha=0.5)"
      ],
      "execution_count": null,
      "outputs": [
        {
          "output_type": "execute_result",
          "data": {
            "text/plain": [
              "<matplotlib.collections.PathCollection at 0x7faeec3cd690>"
            ]
          },
          "metadata": {},
          "execution_count": 31
        },
        {
          "output_type": "display_data",
          "data": {
            "image/png": "[encoded data removed]",
            "text/plain": [
              "<Figure size 432x288 with 1 Axes>"
            ]
          },
          "metadata": {
            "needs_background": "light"
          }
        }
      ]
    },
    {
      "cell_type": "markdown",
      "metadata": {
        "id": "d0ykd0M31RS5"
      },
      "source": [
        "---\n",
        "\n",
        "7. Elige dos estimadores y demuestra que definen algoritmos escalables (10p)\n",
        "\n",
        "  $\\underset{p \\times 1}{\\mathbf{x}}=n^{-1}\\left[\\sum_{i=1}^{n} x_{i, 1}, \\ldots, \\sum_{i=1}^{n} x_{i, p}\\right]^{T} \\quad \\hat{\\sigma}_{j}^{2}=n^{-1} \\sum_{i=1}^{n} x_{i, j}^{2}-\\bar{x}_{j}^{2} \\quad \\hat{\\sigma}_{j k}=n^{-1} \\sum_{i=1}^{n} x_{i, j} x_{i, k}-\\bar{x}_{j} \\bar{x}_{k}$"
      ]
    },
    {
      "cell_type": "markdown",
      "metadata": {
        "id": "h1QloHS6D6le"
      },
      "source": [
        "1. Sea un conjunto de datos consistente de $n$ observaciones $D=\\left\\{\\mathbf{x}_{1}, \\ldots, \\mathbf{x}_{n}\\right\\}$, donde cada una es un vector de $p$ variables $\\underset{p \\times 1}{\\mathbf{x}_{i}}=\\left[x_{i, 1}, \\ldots, x_{i, p}\\right]^{T}$\n",
        "\n",
        "  Dividamos el conjunto $D$ en $\\boldsymbol{D}_{1}=\\left\\{\\mathbf{x}_{1}, \\ldots, \\mathbf{x}_{m}\\right\\}$ у $D_{2}=\\left\\{\\mathbf{x}_{m+1}, \\ldots, \\mathbf{x}_{n}\\right\\}$\n",
        "    \n",
        "Entonces podemos pensar al estimador como:\n",
        "    \n",
        "$$\n",
        "\\underset{2 \\times \\mathbf{1}}{s(D)}= \\left[\\begin{array}{c}\n",
        "\\left[\\sum_{i=1}^{m} x_{i, 1}, \\ldots, \\sum_{i=1}^{m} x_{i, p}\\right]^{T} \\\\\n",
        "n\n",
        "\\end{array}\\right]\n",
        "$$\n",
        "    \n",
        "Calculemos cada una de forma que:\n",
        "\n",
        "$$\\underset{p \\times 1}{\\mathbf{x_1}}=\\left[\\sum_{i=1}^{m} x_{i, 1}, \\ldots, \\sum_{i=1}^{m} x_{i, p}\\right]^{T}$$\n",
        "\n",
        "$$\\underset{p \\times 1}{\\mathbf{x_2}}=\\left[\\sum_{i=(m+1)}^{n} x_{i, 1}, \\ldots, \\sum_{i=(m+1)}^{n} x_{i, p}\\right]^{T}$$\n",
        "\n",
        "Sumemos ambbos resultados, recordmos que los vectores se suman componente por componente:\n",
        "\n",
        "$$\n",
        "\\begin{align}\n",
        "\\underset{p \\times 1}{\\mathbf{x_1}} + \\underset{p \\times 1}{\\mathbf{x_2}} = &  \\left[\\sum_{i=1}^{m} x_{i, 1}, \\ldots, \\sum_{i=1}^{m} x_{i, p}\\right]^{T} + \\left[\\sum_{i=(m+1)}^{n} x_{i, 1}, \\ldots, \\sum_{i=(m+1)}^{n} x_{i, p}\\right]^{T} \\\\\n",
        "     = &  \\left[\\sum_{i=1}^{m} x_{i, 1} + \\sum_{i=(m+1)}^{n} x_{i, 1}, \\ldots, \\sum_{i=1}^{m} x_{i, p} + \\sum_{i=(m+1)}^{n} x_{i, p}\\right]^{T} \\\\\n",
        "     = & \\left[\\sum_{i=1}^{n} x_{i, 1}, \\ldots, \\sum_{i=1}^{n} x_{i, p}\\right]^{T}\n",
        "     \\end{align}\n",
        "$$\n",
        "    \n",
        "Entonces:\n",
        "    \n",
        "$$\n",
        "\\underset{2 \\times \\mathbf{1}}{s(D_1)} + \\underset{2 \\times \\mathbf{1}}{s(D_2)} = \\left[\\begin{array}{c}\n",
        "\\underset{p \\times 1}{\\mathbf{x_1}} + \\underset{p \\times 1}{\\mathbf{x_2}} \\\\\n",
        " m + (n-m)\n",
        "\\end{array}\\right] = \n",
        "\\left[\\begin{array}{c}\n",
        "\\left[\\sum_{i=1}^{m} x_{i, 1}, \\ldots, \\sum_{i=1}^{m} x_{i, p}\\right]^{T} \\\\\n",
        "n\n",
        "\\end{array}\\right] = \\underset{2 \\times \\mathbf{1}}{s(D)}\n",
        "$$\n",
        "\n",
        "Por lo que se trata de Algoritmos escalables (aunque habría que demostrar que se cumple para k+1)."
      ]
    },
    {
      "cell_type": "markdown",
      "metadata": {
        "id": "nQeQ-4jpkRbt"
      },
      "source": [
        "2. Notemos que como $\\hat{\\sigma}^{2}=\\frac{1}{n}\\sum_{i=1}^{n}x_{i}^{2}-(\\frac{1}{n}\\sum_{i=1}^{n}x_{i})^{2}$, se puede usar el primer ejercicio para mostrar que este también define un algoritmo escalable.\n",
        "\n",
        "  Utilizamos la estadística asociativa\n",
        "\n",
        "  $$\n",
        "  \\underset{3 \\times \\mathbf{1}}{s(D)}= \\left[\\begin{array}{c}\n",
        "  \\sum_{i=1}^{n} x_{i} \\\\\n",
        "  \\sum_{i=1}^{n} x_{i}^{2}\\\\\n",
        "  n\n",
        "  \\end{array}\\right]\n",
        "  $$\n",
        "\n",
        "  Donde, la primer parte es idéntica al primer inciso de este ejercicio, y la segunda es análoga pues:\n",
        "\n",
        "  Tomamos los mismos subconjuntos $D_1=\\left\\{\\mathbf{x}_{1}, \\ldots, \\mathbf{x}_{m}\\right\\}$ y $D_2=\\left\\{\\mathbf{x}_{m+1}, \\ldots, \\mathbf{x}_{n}\\right\\}$\n",
        "\n",
        "  Cada término está elevado al cuadrado ahora, sin embargo esto no afecta al procedimiento general, pues la suma no depende de la forma de cada uno de esos terminos y prevalece su asociatividad.\n",
        "\n",
        "  $$\\underset{p \\times 1}{\\overline{\\mathbf{x_1^{2}}}}=\\left[\\sum_{i=1}^{m} x_{i, 1}^{2}, \\ldots, \\sum_{i=1}^{m} x_{i, p}^{2}\\right]^{T}$$\n",
        "\n",
        "  $$\\underset{p \\times 1}{\\overline{\\mathbf{x_2^{2}}}}=\\left[\\sum_{i=(m+1)}^{n} x_{i, 1}^{2}, \\ldots, \\sum_{i=(m+1)}^{n} x_{i, p}^{2}\\right]^{T}$$\n",
        "\n",
        "  $$\n",
        "      \\begin{align}\n",
        "      \\underset{p \\times 1}{\\overline{\\mathbf{x_1^{2}}}} + \\underset{p \\times 1}{\\overline{\\mathbf{x_2^{2}}}} = &  \\left[\\sum_{i=1}^{m} x_{i, 1}^{2}, \\ldots, \\sum_{i=1}^{m} x_{i, p}^{2}\\right]^{T} + \\left[\\sum_{i=(m+1)}^{n} x_{i, 1}^{2}, \\ldots, \\sum_{i=(m+1)}^{n} x_{i, p}^{2}\\right]^{T} \\\\\n",
        "  = &  \\left[\\sum_{i=1}^{m} x_{i, 1}^{2} + \\sum_{i=(m+1)}^{n} x_{i, 1}^{2}, \\ldots, \\sum_{i=1}^{m} x_{i, p}^{2} + \\sum_{i=(m+1)}^{n} x_{i, p}^{2}\\right]^{T} \\\\\n",
        "  = & \\left[\\sum_{i=1}^{n} x_{i, 1}^{2}, \\ldots, \\sum_{i=1}^{n} x_{i, p}^{2}\\right]^{T}\n",
        "      \\end{align}\n",
        "  $$\n",
        "\n",
        "  Por lo tanto, se tiene un algoritmo escalable para la varianza también."
      ]
    },
    {
      "cell_type": "code",
      "metadata": {
        "id": "MwPxiYdJ2wW6"
      },
      "source": [
        ""
      ],
      "execution_count": null,
      "outputs": []
    },
    {
      "cell_type": "markdown",
      "metadata": {
        "id": "wJUge35E1hTB"
      },
      "source": [
        "----\n",
        "\n",
        "8. Obtén las expresiones para determinar los intervalos de contenedores para histogramas bidimensionales en función del número de contenedores (5p)"
      ]
    },
    {
      "cell_type": "markdown",
      "metadata": {
        "id": "uWAlr-7uQMcv"
      },
      "source": [
        "En un histograma bidimensional, se debe de considerar una dimensión extra, que no necesariamente tiene la misma longitud de nuestro intervalo en la primera demensión, digamos el intervalo $x$. Entonces si $x(n)$ y $y(n)$ son los máximos de cada dimensión y $x(1)$ y $y(1)$ son los mínimos, sean $a=x(n)-x(1)$ y $b=y(n)-y(1)$  los intervalos de cada una de nuestras dimensiones y $h^2$ el número de intervaos deseados; podemos definir a los intervalos del histograma bidimencional de la siguiene forma:\n",
        "\n",
        "Cuando tenemos un histograma unidimencional, sabemos que, cada intervalo esta definido entre el valor $x(1)$ y la suma de el grosor de cada bin hasta llegar a $x(n)$, es decir la longitud del intervalo $a$ entre el número de contenedores que queremos $h$ de forma que tenemos:\n",
        "\n",
        "Los intervalos de la primera dimensión:\n",
        "\n",
        "$$\n",
        "\\begin{aligned}\n",
        "a_{1}=&\\left[x_{1}, x_{1}+\\frac{a}{h}\\right] \\\\\n",
        "& \\vdots \\\\\n",
        "a_{i}=&\\left(x_{1}+(i-1) \\frac{a}{h}, x_{1}+(i) \\frac{a}{h}\\right] \\\\\n",
        "& \\vdots \\\\\n",
        "a_{h}=&\\left(x_{1}+(h-1) \\frac{a}{h}, x_{n}\\right]\n",
        "\\end{aligned}\n",
        "$$\n",
        "\n",
        "Los intervalos de la segunda dimensión:\n",
        "\n",
        "$$\n",
        "\\begin{aligned}\n",
        "b_{1}=&\\left[y_{1}, y_{1}+\\frac{b}{h}\\right] \\\\\n",
        "& \\vdots \\\\\n",
        "b_{i}=&\\left(y_{1}+(i-1) \\frac{b}{h}, y_{1}+(i) \\frac{b}{h}\\right] \\\\\n",
        "& \\vdots \\\\\n",
        "b_{h}=&\\left(y_{1}+(h-1) \\frac{b}{h}, y_{n}\\right]\n",
        "\\end{aligned}\n",
        "$$\n",
        "\n",
        "Y entonces podemos hacer:\n",
        "\n",
        "$$\n",
        "B=\\left\\{b_{1}, \\ldots, b_{h}\\right\\}\n",
        "$$\n",
        "\n",
        "$$\n",
        "A=\\left\\{a_{1}, \\ldots, a_{h}\\right\\}\n",
        "$$\n",
        "\n",
        "Enonces la función para los intervalos bidimensionales es:\n",
        "\n",
        "$$\n",
        "C_{i}(h) = A \\times B = \\left\\{\n",
        "\\begin{array}{ll}\n",
        "\\left[x_{1}, x_{1}+\\frac{a}{h}\\right] \\times \\left[y_{1}, y_{1}+\\frac{b}{h}\\right]  & , i = 1\\\\\n",
        "\\left(x_{1}+(i-1) \\frac{a}{h}, x_{1}+(i) \\frac{a}{h}\\right] \\times \\left(y_{1}+(i-1) \\frac{b}{h}, y_{1}+(i) \\frac{b}{h}\\right] & , 1<i \\leq h\n",
        "\\end{array}\n",
        "\\right.\n",
        "$$"
      ]
    },
    {
      "cell_type": "markdown",
      "metadata": {
        "id": "NszSDp4n1k-S"
      },
      "source": [
        "----\n",
        "\n",
        "9. Un resorte se somete a estiramiento aplicando distintos pesos $(\\mathbf{X})$ y se anotó su alargamiento (y); utilizando la solución de la ecuación normal, determina los estimadores $\\hat{\\boldsymbol{\\beta}}, \\sigma_{\\epsilon}^{2}, \\operatorname{var}(\\hat{\\boldsymbol{\\beta}})$\n",
        "  $$\n",
        "  \\begin{aligned}\n",
        "  &\\mathbf{X}=[0.5,1.07,1.64,2.21,2.79,3.36,3.93,4.5] \\\\\n",
        "  &\\mathbf{y}=[0.19,0.25,0.51,0.57,0.83,0.99,1.06,1.31]\n",
        "  \\end{aligned}\n",
        "  $$\n",
        "  Debes mostrar la forma de calcular $\\mathbf{X}^{T} \\mathbf{X}$ y su inversa $(10 p)$"
      ]
    },
    {
      "cell_type": "markdown",
      "metadata": {
        "id": "SWkDCCQmVSZF"
      },
      "source": [
        "Recordemos que se trata de un estimador de minimos cuadrados, es decir busca una linea recta que se acople. Al tratarse de un resorte sometiendose a un estiramiento podemos pensar en la ley de Hook, donde entonces buscamos $\\boldsymbol{L}=\\boldsymbol{m} \\boldsymbol{F}+\\boldsymbol{n} \\text { que mejor se ajuste a los datos. }$\n",
        "\n",
        "Vamos a solucionarlo mediante un código que nos permita ser mñás agil con las cuentas (porque ya no hay tiempo :c):\n",
        "\n",
        "$\\hat{\\boldsymbol{\\beta}}=\\left(\\mathbf{X}^{T} \\mathbf{X}\\right)^{-1} \\mathbf{X}^{T} \\mathbf{y}$"
      ]
    },
    {
      "cell_type": "code",
      "metadata": {
        "id": "V0h9Emdi2xls"
      },
      "source": [
        "# Definamos los arrays:\n",
        "\n",
        "# Recordemos que tenemos que extender la matriz X para que se adapte a una función lineal\n",
        "X=[[0.5,1.07,1.64,2.21,2.79,3.36,3.93,4.5], [1,1,1,1,1,1,1,1]]\n",
        "y=[[0.19,0.25,0.51,0.57,0.83,0.99,1.06,1.31]]\n",
        "\n",
        "X = np.array(X).T\n",
        "y = np.array(y).T"
      ],
      "execution_count": null,
      "outputs": []
    },
    {
      "cell_type": "code",
      "metadata": {
        "colab": {
          "base_uri": "https://localhost:8080/"
        },
        "id": "A3BdqJgkXH4p",
        "outputId": "20a99173-5532-4cdd-fb61-3e46b881b5e4"
      },
      "source": [
        "# Hagamos la primera operación XT*X\n",
        "X1 = np.dot(X.T, X)\n",
        "X1"
      ],
      "execution_count": null,
      "outputs": [
        {
          "output_type": "execute_result",
          "data": {
            "text/plain": [
              "array([[63.7372, 20.    ],\n",
              "       [20.    ,  8.    ]])"
            ]
          },
          "metadata": {},
          "execution_count": 53
        }
      ]
    },
    {
      "cell_type": "markdown",
      "metadata": {
        "id": "xCv39wjzZVIu"
      },
      "source": [
        "Para la inversa:\n",
        "\n",
        "Encontrar la inversa de la matriz de $2 \\times 2$ mediante la fórmula: $A^{(-1)}=\\left(\\begin{array}{cc}a & b \\\\ c & d\\end{array}\\right)^{(-1)}=\\frac{1}{\\operatorname{det}(A)} \\cdot\\left(\\begin{array}{ll}C_{11} & C_{21} \\\\ C_{12} & C_{22}\\end{array}\\right)=\\frac{1}{a d-b c} \\cdot\\left(\\begin{array}{cc}d & -b \\\\ -c & a\\end{array}\\right)$\n",
        "$$\n",
        "\\left(\\begin{array}{cc}\n",
        "\\frac{159343}{2500} & 20 \\\\\n",
        "20 & 8\n",
        "\\end{array}\\right)^{(-1)}=\\frac{1}{\\frac{159343}{2500} \\cdot 8-20 \\cdot 20} \\cdot\\left(\\begin{array}{cc}\n",
        "8 & -20 \\\\\n",
        "-20 & \\frac{159343}{2500}\n",
        "\\end{array}\\right)=\\left(\\begin{array}{ll}\n",
        "\\frac{2500}{34343} & \\frac{-6250}{34343} \\\\\n",
        "\\frac{-6250}{34343} & \\frac{159343}{274744}\n",
        "\\end{array}\\right)\n",
        "$$"
      ]
    },
    {
      "cell_type": "code",
      "metadata": {
        "colab": {
          "base_uri": "https://localhost:8080/"
        },
        "id": "3n7wHIYQXWa1",
        "outputId": "0191f42a-4ab4-45e4-b0d3-f0f476d777c0"
      },
      "source": [
        "# Inversa\n",
        "\n",
        "X1 = np.linalg.inv(X1)\n",
        "X1"
      ],
      "execution_count": null,
      "outputs": [
        {
          "output_type": "execute_result",
          "data": {
            "text/plain": [
              "array([[ 0.07279504, -0.1819876 ],\n",
              "       [-0.1819876 ,  0.57996899]])"
            ]
          },
          "metadata": {},
          "execution_count": 57
        }
      ]
    },
    {
      "cell_type": "code",
      "metadata": {
        "colab": {
          "base_uri": "https://localhost:8080/"
        },
        "id": "_HZ5eKcDYfdz",
        "outputId": "a7089412-50c9-4222-f644-8898734d16b5"
      },
      "source": [
        "# Hagamos la multiplicación X.T * y\n",
        "\n",
        "X2 = np.dot(X.T, y)\n",
        "X2"
      ],
      "execution_count": null,
      "outputs": [
        {
          "output_type": "execute_result",
          "data": {
            "text/plain": [
              "array([[18.1615],\n",
              "       [ 5.71  ]])"
            ]
          },
          "metadata": {},
          "execution_count": 58
        }
      ]
    },
    {
      "cell_type": "code",
      "metadata": {
        "colab": {
          "base_uri": "https://localhost:8080/"
        },
        "id": "2JVziSgkZcmI",
        "outputId": "8495b949-27b3-42ef-c9f5-43e4cc28ed83"
      },
      "source": [
        "# Finalmente hagamos la multiplicaciones de ambas matrices para obener el estimador:\n",
        "\n",
        "B = np.dot(X1, X2)\n",
        "B"
      ],
      "execution_count": null,
      "outputs": [
        {
          "output_type": "execute_result",
          "data": {
            "text/plain": [
              "array([[0.28291792],\n",
              "       [0.00645521]])"
            ]
          },
          "metadata": {},
          "execution_count": 60
        }
      ]
    },
    {
      "cell_type": "markdown",
      "metadata": {
        "id": "XIPn_SpPbld0"
      },
      "source": [
        "$\\sigma_{\\epsilon}^{2}=\\frac{\\sum_{i=1}^{n}\\left(y_{i}-\\hat{y}_{i}\\right)^{2}}{n-q}$,  donde $\\hat{y}=\\mathbf{x}_{i}^{T} \\hat{\\boldsymbol{\\beta}}$"
      ]
    },
    {
      "cell_type": "code",
      "metadata": {
        "colab": {
          "base_uri": "https://localhost:8080/"
        },
        "id": "VRrHoGrAbk9x",
        "outputId": "858ed0e1-9c24-47f2-a19c-04eec95e2928"
      },
      "source": [
        "# Vamos a calcular y gorrito\n",
        "\n",
        "yv = []\n",
        "for i in range(len(X)):\n",
        "    yv.append(list(np.dot(X[i].T, B)))\n",
        "\n",
        "yv"
      ],
      "execution_count": null,
      "outputs": [
        {
          "output_type": "execute_result",
          "data": {
            "text/plain": [
              "[[0.1479141673703526],\n",
              " [0.30917737966980224],\n",
              " [0.47044059196925186],\n",
              " [0.6317038042687017],\n",
              " [0.7957961957312996],\n",
              " [0.9570594080307492],\n",
              " [1.118322620330199],\n",
              " [1.2795858326296485]]"
            ]
          },
          "metadata": {},
          "execution_count": 64
        }
      ]
    },
    {
      "cell_type": "code",
      "metadata": {
        "colab": {
          "base_uri": "https://localhost:8080/"
        },
        "id": "DKSe930sbu0h",
        "outputId": "75482a52-8466-4892-b63a-8d5f48f7b02d"
      },
      "source": [
        "# Vamos a calcular la suma\n",
        "sumas = []\n",
        "for i in range(len(y)):\n",
        "    sumas.append((y[i]-yv[i])**2)\n",
        "    \n",
        "# Vamos a calucular por último el estimador dividiendo por la diferencia de la dimensión de X\n",
        "\n",
        "sigma = sum(sumas)/(len(X) - len(X.T))\n",
        "sigma"
      ],
      "execution_count": null,
      "outputs": [
        {
          "output_type": "execute_result",
          "data": {
            "text/plain": [
              "array([0.00287117])"
            ]
          },
          "metadata": {},
          "execution_count": 66
        }
      ]
    },
    {
      "cell_type": "markdown",
      "metadata": {
        "id": "Y_jLr1LYc880"
      },
      "source": [
        "$\\operatorname{var}(\\hat{\\boldsymbol{\\beta}})=\\sigma_{\\epsilon}^{2}\\left(\\mathbf{X}^{T} \\mathbf{X}\\right)^{-1}$"
      ]
    },
    {
      "cell_type": "code",
      "metadata": {
        "colab": {
          "base_uri": "https://localhost:8080/"
        },
        "id": "wma-lruuc8oW",
        "outputId": "ed02557f-c1e1-4c9a-c8ca-c587bf156190"
      },
      "source": [
        "# Tomemos los valores ya calculados de forma que:\n",
        "\n",
        "var = sigma * X1\n",
        "var"
      ],
      "execution_count": null,
      "outputs": [
        {
          "output_type": "execute_result",
          "data": {
            "text/plain": [
              "array([[ 0.00020901, -0.00052252],\n",
              "       [-0.00052252,  0.00166519]])"
            ]
          },
          "metadata": {},
          "execution_count": 67
        }
      ]
    },
    {
      "cell_type": "markdown",
      "metadata": {
        "id": "ncAV9oVn1wsG"
      },
      "source": [
        "----\n",
        "\n",
        "10. Con los datos del problema anterior, escribe un código para comparar el resultado obtenido con la regresión lineal estándar y el uso de las regularizaciones Lasso y ElasticNet tomando dos muestras para entrenamiento (5p)"
      ]
    },
    {
      "cell_type": "code",
      "metadata": {
        "colab": {
          "base_uri": "https://localhost:8080/",
          "height": 282
        },
        "id": "Gl9oAYkkeHxY",
        "outputId": "c7804fa7-a81c-4a88-fe5c-4a097170957f"
      },
      "source": [
        "# Especifiquemos los conjuntos de nuevo \n",
        "\n",
        "x = [0.5,1.07,1.64,2.21,2.79,3.36,3.93,4.5]\n",
        "y = [0.19,0.25,0.51,0.57,0.83,0.99,1.06,1.31]\n",
        "\n",
        "# Definamos los inervalos de enrenamiento y prueba \n",
        "# Dado la cantidad de daos sí nos da para generar entrebnamiento con 3\n",
        "X_train ,y_train = np.array([1.07,2.79, 4.5]), np.array ([0.25 ,0.83, 1.31])\n",
        "X_test ,y_test = np.array([0.5,1.64,2.21,3.36,3.93]), np.array([0.19,0.51,0.57,0.99,1.06])\n",
        "\n",
        "# Gráfiquemos\n",
        "plt.scatter(x,y)"
      ],
      "execution_count": null,
      "outputs": [
        {
          "output_type": "execute_result",
          "data": {
            "text/plain": [
              "<matplotlib.collections.PathCollection at 0x7faef05e1410>"
            ]
          },
          "metadata": {},
          "execution_count": 82
        },
        {
          "output_type": "display_data",
          "data": {
            "image/png": "[encoded data removed]",
            "text/plain": [
              "<Figure size 432x288 with 1 Axes>"
            ]
          },
          "metadata": {
            "needs_background": "light"
          }
        }
      ]
    },
    {
      "cell_type": "code",
      "metadata": {
        "colab": {
          "base_uri": "https://localhost:8080/"
        },
        "id": "6VqTELoBdsO_",
        "outputId": "43501fcd-e8a0-496e-d24b-18fde8acf714"
      },
      "source": [
        "# Vamos a importar la biblioteca de regresión lineal de Skalearn y Lasso y ElasticNet\n",
        "from sklearn.linear_model import LinearRegression\n",
        "from sklearn.linear_model import Lasso\n",
        "from sklearn.linear_model import ElasticNet\n",
        "\n",
        "# Generamos las matrices de valores extendidas\n",
        "\n",
        "X_train.resize(len(X_train),1)\n",
        "y_train.resize(len(y_train),1)\n",
        "\n",
        "# Inicializamos los modelos:\n",
        "modelo = LinearRegression()\n",
        "modelo1 = Lasso(alpha = 0.3)\n",
        "modelo2 = ElasticNet(alpha = 0.3)\n",
        "\n",
        "# Ajustamos con cada modelo\n",
        "modelo.fit(X_train ,y_train)\n",
        "modelo1.fit(X_train ,y_train)\n",
        "modelo2.fit(X_train ,y_train)\n"
      ],
      "execution_count": null,
      "outputs": [
        {
          "output_type": "execute_result",
          "data": {
            "text/plain": [
              "ElasticNet(alpha=0.3, copy_X=True, fit_intercept=True, l1_ratio=0.5,\n",
              "           max_iter=1000, normalize=False, positive=False, precompute=False,\n",
              "           random_state=None, selection='cyclic', tol=0.0001, warm_start=False)"
            ]
          },
          "metadata": {},
          "execution_count": 83
        }
      ]
    },
    {
      "cell_type": "markdown",
      "metadata": {
        "id": "3ysEIQ1lgcuy"
      },
      "source": [
        "**Regresión lineal**"
      ]
    },
    {
      "cell_type": "code",
      "metadata": {
        "colab": {
          "base_uri": "https://localhost:8080/"
        },
        "id": "xJTMlSyWgY1j",
        "outputId": "66ed7849-f7f4-47a4-a9ba-98ba8aca5c3a"
      },
      "source": [
        "coefs = modelo.coef_[0]\n",
        "intercept = modelo.intercept_[0]\n",
        "print(\"y = {:.4f} + {:.4f}x\".format(intercept ,coefs[0]))"
      ],
      "execution_count": null,
      "outputs": [
        {
          "output_type": "stream",
          "name": "stdout",
          "text": [
            "y = -0.0646 + 0.3091x\n"
          ]
        }
      ]
    },
    {
      "cell_type": "code",
      "metadata": {
        "colab": {
          "base_uri": "https://localhost:8080/",
          "height": 282
        },
        "id": "MAXN1DYCeGEf",
        "outputId": "ced4543b-07a7-4ffd-90af-8c653f931302"
      },
      "source": [
        "# Gráfica\n",
        "\n",
        "xx = np.linspace(0.0,5,2)\n",
        "yy = modelo.predict(xx.reshape(len(xx),1))\n",
        "plt.scatter(x,y)\n",
        "plt.plot(xx ,yy ,c='g')"
      ],
      "execution_count": null,
      "outputs": [
        {
          "output_type": "execute_result",
          "data": {
            "text/plain": [
              "[<matplotlib.lines.Line2D at 0x7faee3a86090>]"
            ]
          },
          "metadata": {},
          "execution_count": 85
        },
        {
          "output_type": "display_data",
          "data": {
            "image/png": "[encoded data removed]",
            "text/plain": [
              "<Figure size 432x288 with 1 Axes>"
            ]
          },
          "metadata": {
            "needs_background": "light"
          }
        }
      ]
    },
    {
      "cell_type": "markdown",
      "metadata": {
        "id": "X1Wn7Ml6iA11"
      },
      "source": [
        "Esta se encuentra cobre ajustado a los puntos que definimos."
      ]
    },
    {
      "cell_type": "markdown",
      "metadata": {
        "id": "AELah_HuhZ4u"
      },
      "source": [
        "**LASSO**"
      ]
    },
    {
      "cell_type": "code",
      "metadata": {
        "colab": {
          "base_uri": "https://localhost:8080/"
        },
        "id": "e0FRqN9EgoD4",
        "outputId": "ca10061f-adde-4630-b6e5-250507153dd3"
      },
      "source": [
        "coefs = modelo1.coef_[0]\n",
        "intercept = modelo1.intercept_[0]\n",
        "print(\"y = {:.4f} + {:.4f}x\".format(intercept ,coefs))"
      ],
      "execution_count": null,
      "outputs": [
        {
          "output_type": "stream",
          "name": "stdout",
          "text": [
            "y = 0.3618 + 0.1561x\n"
          ]
        }
      ]
    },
    {
      "cell_type": "code",
      "metadata": {
        "colab": {
          "base_uri": "https://localhost:8080/",
          "height": 282
        },
        "id": "ZhUUVsEEhcPM",
        "outputId": "46392da5-06ae-4d75-ff3b-9300ca8fec83"
      },
      "source": [
        "# Gráfica\n",
        "xx = np.linspace(0.0,5,2)\n",
        "yy = modelo1.predict(xx.reshape(len(xx),1))\n",
        "plt.scatter(x,y)\n",
        "plt.plot(xx ,yy ,c='g')"
      ],
      "execution_count": null,
      "outputs": [
        {
          "output_type": "execute_result",
          "data": {
            "text/plain": [
              "[<matplotlib.lines.Line2D at 0x7faee33e73d0>]"
            ]
          },
          "metadata": {},
          "execution_count": 87
        },
        {
          "output_type": "display_data",
          "data": {
            "image/png": "[encoded data removed]",
            "text/plain": [
              "<Figure size 432x288 with 1 Axes>"
            ]
          },
          "metadata": {
            "needs_background": "light"
          }
        }
      ]
    },
    {
      "cell_type": "markdown",
      "metadata": {
        "id": "u0rbj3KIhrhW"
      },
      "source": [
        "**ELASTIC NET**"
      ]
    },
    {
      "cell_type": "code",
      "metadata": {
        "colab": {
          "base_uri": "https://localhost:8080/"
        },
        "id": "DUzqXjg-hhTv",
        "outputId": "aa4a6301-3307-4114-83e9-7a3ff3b03468"
      },
      "source": [
        "coefs = modelo2.coef_[0]\n",
        "intercept = modelo2.intercept_[0]\n",
        "print(\"y = {:.4f} + {:.4f}x\".format(intercept ,coefs))"
      ],
      "execution_count": null,
      "outputs": [
        {
          "output_type": "stream",
          "name": "stdout",
          "text": [
            "y = 0.1946 + 0.2160x\n"
          ]
        }
      ]
    },
    {
      "cell_type": "code",
      "metadata": {
        "colab": {
          "base_uri": "https://localhost:8080/",
          "height": 282
        },
        "id": "hhVCK377hxyi",
        "outputId": "921127a8-6571-4758-dd84-55f000a07c52"
      },
      "source": [
        "# Gráfica \n",
        "xx = np.linspace(0.0,5,2)\n",
        "yy = modelo2.predict(xx.reshape(len(xx),1))\n",
        "plt.scatter(x,y)\n",
        "plt.plot(xx ,yy ,c='g')"
      ],
      "execution_count": null,
      "outputs": [
        {
          "output_type": "execute_result",
          "data": {
            "text/plain": [
              "[<matplotlib.lines.Line2D at 0x7faee34f4050>]"
            ]
          },
          "metadata": {},
          "execution_count": 89
        },
        {
          "output_type": "display_data",
          "data": {
            "image/png": "[encoded data removed]",
            "text/plain": [
              "<Figure size 432x288 with 1 Axes>"
            ]
          },
          "metadata": {
            "needs_background": "light"
          }
        }
      ]
    },
    {
      "cell_type": "code",
      "metadata": {
        "id": "HBasRAEXh5q0"
      },
      "source": [
        ""
      ],
      "execution_count": null,
      "outputs": []
    }
  ]
}
